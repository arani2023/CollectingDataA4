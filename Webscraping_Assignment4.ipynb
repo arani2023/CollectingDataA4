{
 "cells": [
  {
   "cell_type": "markdown",
   "metadata": {},
   "source": [
    "# WEB SCRAPING WITH BEAUTIFULSOUP AND SPACY"
   ]
  },
  {
   "attachments": {},
   "cell_type": "markdown",
   "metadata": {},
   "source": [
    "We will start by sending a request to the url page."
   ]
  },
  {
   "cell_type": "code",
   "execution_count": 1,
   "metadata": {},
   "outputs": [
    {
     "name": "stdout",
     "output_type": "stream",
     "text": [
      "['https://www.poetryfoundation.org/articles/category/essays', 'https://www.poetryfoundation.org/articles/category/interview', 'https://www.poetryfoundation.org/articles/category/profile', 'https://www.poetryfoundation.org/articles/browse', 'https://www.poetryfoundation.org/articles/category/essays', 'https://www.poetryfoundation.org/articles/category/interview', 'https://www.poetryfoundation.org/articles/category/profile', 'https://www.poetryfoundation.org/articles/browse', 'https://www.poetryfoundation.org/articles/browse', 'https://www.poetryfoundation.org/articles/category/essays', 'https://www.poetryfoundation.org/articles/category/interview', 'https://www.poetryfoundation.org/articles/category/profile', 'https://www.poetryfoundation.org/articles/category/poem-sampler', 'https://www.poetryfoundation.org/articles/category/prose-from-pm', 'https://www.poetryfoundation.org/articles/category/poem-guides', 'https://www.poetryfoundation.org/articles/category/essay-poetic-theory', 'https://www.poetryfoundation.org/articles/161092/following-the-impulse-of-the-brush', 'https://www.poetryfoundation.org/articles/161092/following-the-impulse-of-the-brush', 'https://www.poetryfoundation.org/articles/159190/having-their-say', 'https://www.poetryfoundation.org/articles/159190/having-their-say', 'https://www.poetryfoundation.org/articles/159192/all-sorts-of-secret-treasure', 'https://www.poetryfoundation.org/articles/159192/all-sorts-of-secret-treasure', 'https://www.poetryfoundation.org/articles/158991/never-static', 'https://www.poetryfoundation.org/articles/158991/never-static', 'https://www.poetryfoundation.org/articles/158893/walking-in-an-empire', 'https://www.poetryfoundation.org/articles/158893/walking-in-an-empire', 'https://www.poetryfoundation.org/articles/158609/she-really-enjoyed-him', 'https://www.poetryfoundation.org/articles/158609/she-really-enjoyed-him', 'https://www.poetryfoundation.org/articles/158495/histories-of-the-future-frontier', 'https://www.poetryfoundation.org/articles/158495/histories-of-the-future-frontier', 'https://www.poetryfoundation.org/articles/157996/positive-rigor', 'https://www.poetryfoundation.org/articles/157996/positive-rigor', 'https://www.poetryfoundation.org/articles/156577/small-maneuvers-and-big-effects', 'https://www.poetryfoundation.org/articles/156577/small-maneuvers-and-big-effects', 'https://www.poetryfoundation.org/articles/156447/the-job-of-a-poet-is-to-witness', 'https://www.poetryfoundation.org/articles/156447/the-job-of-a-poet-is-to-witness', '/articles/category/interview', '/articles/category/interview?page=2', '/articles/category/interview?page=3', '/articles/category/interview?page=4', '/articles/category/interview?page=5', '/articles/category/interview?page=6', '/articles/category/interview?page=2', 'https://www.poetryfoundation.org/articles/category/essays', 'https://www.poetryfoundation.org/articles/category/interview', 'https://www.poetryfoundation.org/articles/category/profile', 'https://www.poetryfoundation.org/articles/browse']\n"
     ]
    }
   ],
   "source": [
    "import requests\n",
    "from bs4 import BeautifulSoup\n",
    "\n",
    "# URL of the page to scrape\n",
    "url = 'https://www.poetryfoundation.org/articles/category/interview'\n",
    "\n",
    "# Send a request to the page\n",
    "response = requests.get(url)\n",
    "soup = BeautifulSoup(response.content, 'html.parser')\n",
    "\n",
    "# Find all <a> tags that contain links to articles\n",
    "article_links = soup.find_all('a', href=True)\n",
    "\n",
    "# Filter out links that do not lead to articles\n",
    "filtered_links = [link['href'] for link in article_links if '/articles/' in link['href']]\n",
    "\n",
    "print(filtered_links)\n"
   ]
  },
  {
   "cell_type": "markdown",
   "metadata": {},
   "source": [
    "Next, we will scrape from the website the title, the interviewer, and the content of the interview."
   ]
  },
  {
   "cell_type": "code",
   "execution_count": 14,
   "metadata": {},
   "outputs": [
    {
     "name": "stdout",
     "output_type": "stream",
     "text": [
      "Title: 2023: Poetry's Year in Prose\n",
      "Interviewer: By The Editors\n",
      "Content: A reading list of our 2023 features. How Robert Frost made poetry modern. Christian Wiman'sZero at the Boneblends memoir and theology, criticism and poetry into a mystical commonplace book for Armageddon. Modernism at the 1913 Armory Show Architecture and Planning in Chicago Harriet Monroe on the Artist’s Audience A new biography of Jane Kenyon frees the poet from the shadow of her famous older husband. Brian Teare'sPoem Bitten by a Manis a hybrid book that presses language into and against visual art. A new edition of Tomas Tranströmer’s collected works showcases his wild associative leaps. Four hundred unruly, obsessive, baffling years of Shakespeare’s First Folio.\n",
      "\n",
      "--- End of Article ---\n",
      "\n",
      "Title: Following the Impulse of the Brush\n",
      "Interviewer: By Arthur Sze\n",
      "Content: A conversation with Kimiko Hahn, winner of the 2023 Ruth Lilly Poetry Prize. Stephanie McCarter on her feminist translation of Ovid. The DeafBlind poet John Lee Clark finds his native language. Will Alexander on poetry, consciousness, and the energy of language. A year before the 1992 LA Uprising, a Black teenager named Latasha Harlins was killed in a corner store.Concentrate, Courtney Faye Taylor’s debut, revisits that tragedy—and the life that... Alice Notley on her life with Ted Berrigan. Rio Cortez on Afropioneerism out West. A conversation with Adrian Matejka,Poetry’s new editor. Garrett Caples wrestles with “the impervious world” in his latest collection,Lovers of Today. A conversation with Patricia Smith, winner of the 2021 Ruth Lilly Poetry Prize.\n",
      "\n",
      "--- End of Article ---\n",
      "\n",
      "Title: Harriet Monroe, Art Critic\n",
      "Interviewer: By Mark Pohlad\n",
      "Content: Reading the visual in theChicago Daily Tribune Gjertrud Schnackenberg’s best poems play form against theme, and then some. Bianca Stone, Ruth Stone’s granddaughter, charts her own poetic territory Leigh Stein’s blinkering, connected verse Omar Pérez is an island unto himself. A doctor’s grim prognosis gave Timothy Donnelly a new outlook on life—and poetry. Martín Espada looks for poetic life outside the MFA universe. The surrealist adventurer of Stockton, California. Can two women write like one man? Tacoma, Washington's reclusive genius.\n",
      "\n",
      "--- End of Article ---\n",
      "\n",
      "Title: 2023: Poetry's Year in Prose\n",
      "Interviewer: By The Editors\n",
      "Content: A reading list of our 2023 features. How Robert Frost made poetry modern. Christian Wiman'sZero at the Boneblends memoir and theology, criticism and poetry into a mystical commonplace book for Armageddon. Reading the visual in theChicago Daily Tribune\n",
      "\n",
      "--- End of Article ---\n",
      "\n",
      "Title: 2023: Poetry's Year in Prose\n",
      "Interviewer: By The Editors\n",
      "Content: A reading list of our 2023 features. How Robert Frost made poetry modern. Christian Wiman'sZero at the Boneblends memoir and theology, criticism and poetry into a mystical commonplace book for Armageddon. Modernism at the 1913 Armory Show Architecture and Planning in Chicago Harriet Monroe on the Artist’s Audience A new biography of Jane Kenyon frees the poet from the shadow of her famous older husband. Brian Teare'sPoem Bitten by a Manis a hybrid book that presses language into and against visual art. A new edition of Tomas Tranströmer’s collected works showcases his wild associative leaps. Four hundred unruly, obsessive, baffling years of Shakespeare’s First Folio.\n",
      "\n",
      "--- End of Article ---\n",
      "\n",
      "Title: Following the Impulse of the Brush\n",
      "Interviewer: By Arthur Sze\n",
      "Content: A conversation with Kimiko Hahn, winner of the 2023 Ruth Lilly Poetry Prize. Stephanie McCarter on her feminist translation of Ovid. The DeafBlind poet John Lee Clark finds his native language. Will Alexander on poetry, consciousness, and the energy of language. A year before the 1992 LA Uprising, a Black teenager named Latasha Harlins was killed in a corner store.Concentrate, Courtney Faye Taylor’s debut, revisits that tragedy—and the life that... Alice Notley on her life with Ted Berrigan. Rio Cortez on Afropioneerism out West. A conversation with Adrian Matejka,Poetry’s new editor. Garrett Caples wrestles with “the impervious world” in his latest collection,Lovers of Today. A conversation with Patricia Smith, winner of the 2021 Ruth Lilly Poetry Prize.\n",
      "\n",
      "--- End of Article ---\n",
      "\n",
      "Title: Harriet Monroe, Art Critic\n",
      "Interviewer: By Mark Pohlad\n",
      "Content: Reading the visual in theChicago Daily Tribune Gjertrud Schnackenberg’s best poems play form against theme, and then some. Bianca Stone, Ruth Stone’s granddaughter, charts her own poetic territory Leigh Stein’s blinkering, connected verse Omar Pérez is an island unto himself. A doctor’s grim prognosis gave Timothy Donnelly a new outlook on life—and poetry. Martín Espada looks for poetic life outside the MFA universe. The surrealist adventurer of Stockton, California. Can two women write like one man? Tacoma, Washington's reclusive genius.\n",
      "\n",
      "--- End of Article ---\n",
      "\n",
      "Title: 2023: Poetry's Year in Prose\n",
      "Interviewer: By The Editors\n",
      "Content: A reading list of our 2023 features. How Robert Frost made poetry modern. Christian Wiman'sZero at the Boneblends memoir and theology, criticism and poetry into a mystical commonplace book for Armageddon. Reading the visual in theChicago Daily Tribune\n",
      "\n",
      "--- End of Article ---\n",
      "\n",
      "Title: 2023: Poetry's Year in Prose\n",
      "Interviewer: By The Editors\n",
      "Content: A reading list of our 2023 features. How Robert Frost made poetry modern. Christian Wiman'sZero at the Boneblends memoir and theology, criticism and poetry into a mystical commonplace book for Armageddon. Reading the visual in theChicago Daily Tribune\n",
      "\n",
      "--- End of Article ---\n",
      "\n",
      "Title: 2023: Poetry's Year in Prose\n",
      "Interviewer: By The Editors\n",
      "Content: A reading list of our 2023 features. How Robert Frost made poetry modern. Christian Wiman'sZero at the Boneblends memoir and theology, criticism and poetry into a mystical commonplace book for Armageddon. Modernism at the 1913 Armory Show Architecture and Planning in Chicago Harriet Monroe on the Artist’s Audience A new biography of Jane Kenyon frees the poet from the shadow of her famous older husband. Brian Teare'sPoem Bitten by a Manis a hybrid book that presses language into and against visual art. A new edition of Tomas Tranströmer’s collected works showcases his wild associative leaps. Four hundred unruly, obsessive, baffling years of Shakespeare’s First Folio.\n",
      "\n",
      "--- End of Article ---\n",
      "\n",
      "Title: Following the Impulse of the Brush\n",
      "Interviewer: By Arthur Sze\n",
      "Content: A conversation with Kimiko Hahn, winner of the 2023 Ruth Lilly Poetry Prize. Stephanie McCarter on her feminist translation of Ovid. The DeafBlind poet John Lee Clark finds his native language. Will Alexander on poetry, consciousness, and the energy of language. A year before the 1992 LA Uprising, a Black teenager named Latasha Harlins was killed in a corner store.Concentrate, Courtney Faye Taylor’s debut, revisits that tragedy—and the life that... Alice Notley on her life with Ted Berrigan. Rio Cortez on Afropioneerism out West. A conversation with Adrian Matejka,Poetry’s new editor. Garrett Caples wrestles with “the impervious world” in his latest collection,Lovers of Today. A conversation with Patricia Smith, winner of the 2021 Ruth Lilly Poetry Prize.\n",
      "\n",
      "--- End of Article ---\n",
      "\n",
      "Title: Harriet Monroe, Art Critic\n",
      "Interviewer: By Mark Pohlad\n",
      "Content: Reading the visual in theChicago Daily Tribune Gjertrud Schnackenberg’s best poems play form against theme, and then some. Bianca Stone, Ruth Stone’s granddaughter, charts her own poetic territory Leigh Stein’s blinkering, connected verse Omar Pérez is an island unto himself. A doctor’s grim prognosis gave Timothy Donnelly a new outlook on life—and poetry. Martín Espada looks for poetic life outside the MFA universe. The surrealist adventurer of Stockton, California. Can two women write like one man? Tacoma, Washington's reclusive genius.\n",
      "\n",
      "--- End of Article ---\n",
      "\n",
      "Title: Kimiko Hahn: Selections\n",
      "Interviewer: By Amy Wright\n",
      "Content: Poems by a poet-scientist Poems by an interdisciplinary writer and performer Work by the Rocker, Poet, Activist, and Literary Trendsetter Interventionist Poet and Performer of (Soma)tic Poetry Ritual Poems by a legendary Chicago poet, playwright, and novelist Poems from an architect of the Black Arts Movement Reading the work of Philadelphia’s first poet laureate “Emotionally scathing” poems by this radical poet of the unsaid A poet and translator enriching the mind and spirit The personal, political writing of a poetry icon\n",
      "\n",
      "--- End of Article ---\n",
      "\n",
      "Title: Editor’s Note\n",
      "Interviewer: By Adrian Matejka\n",
      "Content: An introduction to our June Jordan folio.\n",
      "\n",
      "--- End of Article ---\n",
      "\n"
     ]
    },
    {
     "name": "stdout",
     "output_type": "stream",
     "text": [
      "Title: Margaret Walker’s “For My People”\n",
      "Interviewer: By CM Burroughs\n",
      "Content: There is lightness within these downtrodden lives! What does it mean if a poem is “neither pro nor con abortion”? A hymn to female independence in the form of a withering critique of marriage Who are all these people? Where is this waste land they inhabit? What is this chaos of impressions we are privy to? Wherefore such madness? Are these pieces translations, inventions, or interventions that add to a story that has been lost to us? A queer childhood and the demand to “sound straight.” When polite prejudice makes for scathing satire. A letter, a list, a sonnet, and the state of a nation. Bridging two languages and generations in one intricate poem. This short poem about dreams is one of the most influential poems of the 20th century.\n",
      "\n",
      "--- End of Article ---\n",
      "\n",
      "Title: Cracks in the Oracle Bone: Teaching Certain Contemporary Poems\n",
      "Interviewer: Interviewer Not Found\n",
      "Content: I’m thrilled to be presenting a lecture honoring Judith Stronach to many colleagues and friends, and I’m grateful to Ray for publishing this series of lectures by poets—I feel fortunate... Even at this late-postmodernist moment, when self-defined innovative poetry needs to build on a long tradition of previous self-defined innovative poetry, such poetry still defines itself inoppositionto tradition.... In May 1998, the critic Michael Brenson organized a symposium at the Rockefeller Foundation in New York at which a number of people in the arts were asked to consider... Performanceis a bothersome word for writerly poets. Performance art, poetry slams, and the like have made the term synonymous with theatricality, a recourse to dramatic, declamatory, and other tactics... The society whose modernization has reached the stage of integrated spectacle is characterized by the combined effect of five principal factors: incessant technological renewal, integration of state and economy, generalized... Speech is the effective form of a culture. Any shape or cluster of human history still apparent in the conscious and unconscious habit of groups of people is what I... A DIALOGUE.\n",
      "POET. CRITIC.\n",
      "Poet. Approach me not, man of cold, steadfast eye and compressed lips. At thy coming nature shrouds herself in dull mist; fain would she hide her sighs and... There is an invisible architecture often supporting\n",
      "   the surface of the poem, interrupting the progress of the poem. It reaches\n",
      "into the poem\n",
      "in search for an identity with the... To Alexander William Mowbray BaillieSept. 10. 1864.\n",
      "Dear Baillie,—\n",
      "Your letter has been sent to me from Hampstead. It has just come, and I do a rare thing with me, begin at... [Speculations, 113—40]\n",
      "I want to maintain that after a hundred years of romanticism, we are in for a classical revival, and that the particular weapon of this...\n",
      "\n",
      "--- End of Article ---\n",
      "\n",
      "Title: Kimiko Hahn\n",
      "Interviewer: ByArthur Sze\n",
      "Content: Arthur Sze is a poet, a translator, and an editor. He is the author of 11 books of poetry, includingThe Glass Constellation: New and Collected Poems(Copper Canyon Press, 2021);Sight Lines(2019), which won the National Book Award for Poetry;Compass Rose(2014), a Pulitzer Prize finalist;The Ginkgo Light(2009), selected... Kimiko Hahn is the author of 10 books of poetry, includingForeign Bodies(W. W. Norton, 2020);Brain Fever(Norton, 2014);Toxic Flora(Norton, 2010);The Narrow Road to the... A collection of poets and articles exploring Asian American culture Italian poet and scholar Dante Alighieri is best known for his masterpieceLa Commedia(known in English asThe Divine Comedy), which is universally considered one of world literature’s greatest... The 17th-century Japanese haiku master Bashō was born Matsuo Kinsaku near Kyoto, Japan, to a minor samurai and his wife. Soon after the poet’s birth, Japan closed its borders, beginning... Elizabeth Bishop was born in 1911 in Worcester, Massachusetts and grew up there and in Nova Scotia. Her father died before she was a year old and her mother suffered... Emily Dickinson is one of America’s greatest and most original poets of all time. She took definition as her province and challenged the existing definitions of poetry and the poet’s work.... Since the publication of his first volume of verse,Turtle, Swan,in 1987, Mark Doty has been recognized as one of the most accomplished poets in America. Hailed for his... The 1948 winner of the Nobel Prize in Literature, T.S. Eliot is highly distinguished as a poet, a literary critic, a dramatist, an editor, and a publisher. In 1910 and... This is a poem on my other’s body,I mean, my mother’s body, I mean the onewho saved her braid of blue-black hairin a drawer when I was little.Meaning one I could lean against —against not in resistance. Fuzzy dressof wuzzy one.... Louise Glück was born in New York City in 1943 and grew up on Long Island. She attended Sarah Lawrence College and Columbia University. Considered by many to be one... Poet, novelist, playwright, and multimedia artist Jessica Hagedorn was raised and lived in the Philippines until she moved to San Francisco in her teens. She is the author of five books,... Gerard Manley Hopkins is considered to be one of the greatest poets of the Victorian era. However, because his style was so radically different from that of his contemporaries, his... Kimiko Hahn joins Danez and Franny as they go down some rabbit holes, and maybe even through a few portals. They talk her tenth book, poetic auntie status, Japanese poetry... Rudyard Kipling is one of the best-known of the late Victorian poets and story-tellers. Although he was awarded the Nobel Prize for literature in 1907, his political views, which grew... Recognizing poets for achievement in craft, criticism, and service to the literary arts. My father, as a boy in Milwaukee, thoughtthe cicada's cry was the whir from a live wire--not from muscles on the sides of an insectvibrating against an outer membrane. Strange thoughthat, because they have no ears, no one knows whythe... Kimiko Hahn on tie-dying on the stove, puns, and her father's things. William Carlos Williams was born the first of two sons of an English father and a Puerto Rican mother of French, Dutch, Spanish, and Jewish ancestry, and he grew up...\n",
      "\n",
      "--- End of Article ---\n",
      "\n",
      "Title: Kimiko Hahn\n",
      "Interviewer: ByArthur Sze\n",
      "Content: Arthur Sze is a poet, a translator, and an editor. He is the author of 11 books of poetry, includingThe Glass Constellation: New and Collected Poems(Copper Canyon Press, 2021);Sight Lines(2019), which won the National Book Award for Poetry;Compass Rose(2014), a Pulitzer Prize finalist;The Ginkgo Light(2009), selected... Kimiko Hahn is the author of 10 books of poetry, includingForeign Bodies(W. W. Norton, 2020);Brain Fever(Norton, 2014);Toxic Flora(Norton, 2010);The Narrow Road to the... A collection of poets and articles exploring Asian American culture Italian poet and scholar Dante Alighieri is best known for his masterpieceLa Commedia(known in English asThe Divine Comedy), which is universally considered one of world literature’s greatest... The 17th-century Japanese haiku master Bashō was born Matsuo Kinsaku near Kyoto, Japan, to a minor samurai and his wife. Soon after the poet’s birth, Japan closed its borders, beginning... Elizabeth Bishop was born in 1911 in Worcester, Massachusetts and grew up there and in Nova Scotia. Her father died before she was a year old and her mother suffered... Emily Dickinson is one of America’s greatest and most original poets of all time. She took definition as her province and challenged the existing definitions of poetry and the poet’s work.... Since the publication of his first volume of verse,Turtle, Swan,in 1987, Mark Doty has been recognized as one of the most accomplished poets in America. Hailed for his... The 1948 winner of the Nobel Prize in Literature, T.S. Eliot is highly distinguished as a poet, a literary critic, a dramatist, an editor, and a publisher. In 1910 and... This is a poem on my other’s body,I mean, my mother’s body, I mean the onewho saved her braid of blue-black hairin a drawer when I was little.Meaning one I could lean against —against not in resistance. Fuzzy dressof wuzzy one.... Louise Glück was born in New York City in 1943 and grew up on Long Island. She attended Sarah Lawrence College and Columbia University. Considered by many to be one... Poet, novelist, playwright, and multimedia artist Jessica Hagedorn was raised and lived in the Philippines until she moved to San Francisco in her teens. She is the author of five books,... Gerard Manley Hopkins is considered to be one of the greatest poets of the Victorian era. However, because his style was so radically different from that of his contemporaries, his... Kimiko Hahn joins Danez and Franny as they go down some rabbit holes, and maybe even through a few portals. They talk her tenth book, poetic auntie status, Japanese poetry... Rudyard Kipling is one of the best-known of the late Victorian poets and story-tellers. Although he was awarded the Nobel Prize for literature in 1907, his political views, which grew... Recognizing poets for achievement in craft, criticism, and service to the literary arts. My father, as a boy in Milwaukee, thoughtthe cicada's cry was the whir from a live wire--not from muscles on the sides of an insectvibrating against an outer membrane. Strange thoughthat, because they have no ears, no one knows whythe... Kimiko Hahn on tie-dying on the stove, puns, and her father's things. William Carlos Williams was born the first of two sons of an English father and a Puerto Rican mother of French, Dutch, Spanish, and Jewish ancestry, and he grew up...\n",
      "\n",
      "--- End of Article ---\n",
      "\n"
     ]
    },
    {
     "name": "stdout",
     "output_type": "stream",
     "text": [
      "Title: Ovid\n",
      "Interviewer: ByLily Meyer\n",
      "Content: Lily Meyer is a writer, translator, and critic. Her translations include Claudia Ulloa Donoso’s story collectionsLittle Bird(Deep Vellum, 2021) andIce for Martians(Sundial House, 2022). Her first novel,Short War, is forthcoming from A Strange Object in 2024. Her short fiction has appeared inCatapult, theDrift, theMasters Review, theSewanee Review,... Publius Ovidius Naso, known as Ovid, was born in Sulmo, Italy on March 20, 43 BCE. Considered to be one of the most influential poets in Western literary tradition, Ovid wrote several important... A literary critic, translator, biographer, and editor, Horace Gregory was born in Milwaukee, Wisconsin, and lived in New York for many years. His poetry collections includeChelsea Rooming House(1930);... Not much is known about Homer, or if he even existed, but he is culturally conjured as a blind Greek oral poet who lived in either 9th or 8th century... Horace (Quintus Horatius Flaccus) was a Roman poet, satirist, and critic. Born in Venusia in southeast Italy in 65 BCE to an Italian freedman and landowner, he was sent to... Poet, critic, and editor Rolfe Humphries was born in Philadelphia in 1894. He earned a BA at Amherst College and was a mentor to poet Theodore Roethke and friends with... Philip Larkin was born in Coventry, England in 1922. He earned his BA from St. John’s College, Oxford, where he befriended novelist and poet Kingsley Amis and finished with First... \"When a single day brings the world to destruction, only then will the poetry of the sublime Lucretius pass away.\" This judgment by the Roman poet Ovid , written in... Majesty is incompatible truly with love; they cohabitNowhere together. The father and chief of the gods, whose right hand isArmed with the triple-forked lightning, who shakes the whole world with a nod, laidDignity down with his sceptre, adopting the guise... Publius Vergilius Maro was a classical Roman poet, best known for three major works—theBucolics(orEclogues), theGeorgics, and theAeneid—although several minor poems are also attributed to him....\n",
      "\n",
      "--- End of Article ---\n",
      "\n",
      "Title: Ovid\n",
      "Interviewer: ByLily Meyer\n",
      "Content: Lily Meyer is a writer, translator, and critic. Her translations include Claudia Ulloa Donoso’s story collectionsLittle Bird(Deep Vellum, 2021) andIce for Martians(Sundial House, 2022). Her first novel,Short War, is forthcoming from A Strange Object in 2024. Her short fiction has appeared inCatapult, theDrift, theMasters Review, theSewanee Review,... Publius Ovidius Naso, known as Ovid, was born in Sulmo, Italy on March 20, 43 BCE. Considered to be one of the most influential poets in Western literary tradition, Ovid wrote several important... A literary critic, translator, biographer, and editor, Horace Gregory was born in Milwaukee, Wisconsin, and lived in New York for many years. His poetry collections includeChelsea Rooming House(1930);... Not much is known about Homer, or if he even existed, but he is culturally conjured as a blind Greek oral poet who lived in either 9th or 8th century... Horace (Quintus Horatius Flaccus) was a Roman poet, satirist, and critic. Born in Venusia in southeast Italy in 65 BCE to an Italian freedman and landowner, he was sent to... Poet, critic, and editor Rolfe Humphries was born in Philadelphia in 1894. He earned a BA at Amherst College and was a mentor to poet Theodore Roethke and friends with... Philip Larkin was born in Coventry, England in 1922. He earned his BA from St. John’s College, Oxford, where he befriended novelist and poet Kingsley Amis and finished with First... \"When a single day brings the world to destruction, only then will the poetry of the sublime Lucretius pass away.\" This judgment by the Roman poet Ovid , written in... Majesty is incompatible truly with love; they cohabitNowhere together. The father and chief of the gods, whose right hand isArmed with the triple-forked lightning, who shakes the whole world with a nod, laidDignity down with his sceptre, adopting the guise... Publius Vergilius Maro was a classical Roman poet, best known for three major works—theBucolics(orEclogues), theGeorgics, and theAeneid—although several minor poems are also attributed to him....\n",
      "\n",
      "--- End of Article ---\n",
      "\n",
      "Title: John Lee Clark\n",
      "Interviewer: ByRachel Kolb\n",
      "Content: Rachel Kolb is a Deaf writer, scholar, and advocate. She is a junior fellow in the Society of Fellows at Harvard University. John Lee Clark is a DeafBlind poet, essayist, and independent scholar from Minnesota. His chapbook of poems,Suddenly Slow, appeared in 2008. He has edited two anthologies,Deaf American Poetry... Each month we feature a guest post from a contributor toPoetry’s current issue. Noah Buchholz is professor of American Sign Language and Deaf Studies at Bethel College in Indiana. He is a Certified Deaf Interpreter and travels internationally performing and presenting about Deaf culture... An Exchange The Friend wriggled out and stood, a smiling tree, his shimmering head turning left and right. A person came along and looked up and said, “Who are you?” The Friend said, “Come on, get a buzz. It’s awesome!” The person... John Maucere has appeared onLaw & Order,Brand New Life,Pacific Blue, andSwitched at Birthand is the starring character in his web-based productionSuperdeafy. That night the moon rosein the window. Its lighttouched the pane and spreadover the floor. The girlsclimbed out of their bedsand gathered in the glow,where their hands came alive.Their chatter filled their chestswith such gladness it flowedout past the sentry... Guide, passion, catch whatHath no speech. UnknownJoys, power, and meditation’sUnfolding sky. Feeling drawsHeart and wildering languageStill without speech toMind. Philosophy fails toSway this future child. A DeafBlind poet on art he can touch.\n",
      "\n",
      "--- End of Article ---\n",
      "\n",
      "Title: John Lee Clark\n",
      "Interviewer: ByRachel Kolb\n",
      "Content: Rachel Kolb is a Deaf writer, scholar, and advocate. She is a junior fellow in the Society of Fellows at Harvard University. John Lee Clark is a DeafBlind poet, essayist, and independent scholar from Minnesota. His chapbook of poems,Suddenly Slow, appeared in 2008. He has edited two anthologies,Deaf American Poetry... Each month we feature a guest post from a contributor toPoetry’s current issue. Noah Buchholz is professor of American Sign Language and Deaf Studies at Bethel College in Indiana. He is a Certified Deaf Interpreter and travels internationally performing and presenting about Deaf culture... An Exchange The Friend wriggled out and stood, a smiling tree, his shimmering head turning left and right. A person came along and looked up and said, “Who are you?” The Friend said, “Come on, get a buzz. It’s awesome!” The person... John Maucere has appeared onLaw & Order,Brand New Life,Pacific Blue, andSwitched at Birthand is the starring character in his web-based productionSuperdeafy. That night the moon rosein the window. Its lighttouched the pane and spreadover the floor. The girlsclimbed out of their bedsand gathered in the glow,where their hands came alive.Their chatter filled their chestswith such gladness it flowedout past the sentry... Guide, passion, catch whatHath no speech. UnknownJoys, power, and meditation’sUnfolding sky. Feeling drawsHeart and wildering languageStill without speech toMind. Philosophy fails toSway this future child. A DeafBlind poet on art he can touch.\n",
      "\n",
      "--- End of Article ---\n",
      "\n",
      "Title: Will Alexander\n",
      "Interviewer: ByJenna Peng\n",
      "Content: Jenna Peng is a reader forPoetrymagazine, associate editor of theAsian American Literary Review,and an organizer for the Smithsonian Asian American Literature Festival. She writes hybrid literary/arts criticism and occupies Shawandasse Tula territory (Pittsburgh). Writer, artist, philosopher, and pianist Will Alexander was born in Los Angeles, California in 1948 and has remained a lifetime resident of the city. He earned a BA in English... Irish playwright, novelist, and poet Samuel Beckett was a literary legend of the 20th century. Born in Dublin, Ireland, in 1906, he was educated at Trinity College. During the 1930s... Will Alexander’sTheCombustion Cyclecombines surrealism and the Black tradition in a visionary ecological text. Because the Sun exudes a blaze of riddlesthere exists a haze of optimal osmosisof protracted helium that bendsvia its forceless gruelvia its maniacal translocationto alien ravinesto other planes & possibilities anterior to the sense of chronicle as uninhabited or pure activity The life of Martinican author Aimé Césaire spans the 20th century and its anticolonial movements. He was not only responsible forCahier d’un retour au pays natal(first published in... Blaze as unknowable driftas mathematical drift that blazes with ciphersI’ve listened to moons eclectically riseto conundrums blaze & ascendnot as moleculesor distributed torrentsbut as vibrational mazesas curious oneiric cartography Sandstonecarved by elements prone to the Tethys Seaas they carved exploded & asphyxiatedalive with water that both burned & etchedas primordiumthat explodedthat dictated itselfvia primordial grammesto what seems via delimited viewLuciferean & unrulycarving minerals & minerals of rock as hallucinated... Since the living body persistsas strange accelerated crimsonwhat of its post-biology through ideas through ghostly bonding with itself as kinetic?does it persist within its after-state via chewn reindeer?or does it unearth itself via postmortem figment?because kinetics reabsorb themselvesthey remain trenchantas certain... Will Alexander finds ways of writing poems to revitalize language as a whole. Produced by Katie Klocksin. By Will Alexander Implied inner palpability as transpersonal dictationall works composed as a musical arkas if rowing in an isthmus of lightningthe threat through rising vapour currentshissing with dissolutionthis being none other than internal cartographyghostly cipher as interiority by numberagain ghostly flares &... Surrealist poet Philip Lamantia was born in San Francisco in 1927, the son of Sicilian immigrants. Largely self-taught, he started writing in elementary school and became interested in surrealism after... Jenna Peng Interviews Will Alexander Understanding displacementas verbal working valueas unusual breakagethe poem appears beyond protracted strugglebeyond reinvention as demandits evolutive element ascends as blazingas illusive verbal utopiaabove angst as scholarly researchas clinical bravuravia electrical power prone to unexpected magnificationits marrowits bravuraextending out of nothingnesssimultaneous... A continentthat has made a covenant with its own ruinhas made the skies starvedhas made stone momentarily disadvantage itselfIts circumstance deeper than tremors remains equational habit miming itselfvia counted tablets of timenot a mantric blizzard of space into empty airbut every... Fred Moten is a professor of performance studies and comparative literature at New York University concerned with social movement, aesthetic experiment, and Black study. He has written a number of... Mexican author Octavio Paz enjoyed a worldwide reputation as a master poet and essayist. Although Mexico figures prominently in Paz’s work—one of his best-known books,The Labyrinth of Solitude,for... Not having imbibed Ghosts or dust or forces that condone objective terminationI remain as peripheral terminology not unlike the paradoxical swelteringthat erupts from one’s grasppre-cellular in origin Poet Fernando António Nogueira Pêssoa was born in Lisbon, Portugal. His father died when Pessoa was five years old, and the family moved with his mother’s new husband, a consul,... The impact of Arthur Rimbaud’s poetry has been immense. His influence on the Surrealist movement has been widely acknowledged, and a host of poets, from André Breton to André Freynaud,... Hosted by Al Filreis and featuring Kristen Gallagher, Tracie Morris, and Michael Magee.\n",
      "Need a transcript of this episode? Request a transcript here.\n",
      "\n",
      "--- End of Article ---\n",
      "\n",
      "Title: Will Alexander\n",
      "Interviewer: ByJenna Peng\n",
      "Content: Jenna Peng is a reader forPoetrymagazine, associate editor of theAsian American Literary Review,and an organizer for the Smithsonian Asian American Literature Festival. She writes hybrid literary/arts criticism and occupies Shawandasse Tula territory (Pittsburgh). Writer, artist, philosopher, and pianist Will Alexander was born in Los Angeles, California in 1948 and has remained a lifetime resident of the city. He earned a BA in English... Irish playwright, novelist, and poet Samuel Beckett was a literary legend of the 20th century. Born in Dublin, Ireland, in 1906, he was educated at Trinity College. During the 1930s... Will Alexander’sTheCombustion Cyclecombines surrealism and the Black tradition in a visionary ecological text. Because the Sun exudes a blaze of riddlesthere exists a haze of optimal osmosisof protracted helium that bendsvia its forceless gruelvia its maniacal translocationto alien ravinesto other planes & possibilities anterior to the sense of chronicle as uninhabited or pure activity The life of Martinican author Aimé Césaire spans the 20th century and its anticolonial movements. He was not only responsible forCahier d’un retour au pays natal(first published in... Blaze as unknowable driftas mathematical drift that blazes with ciphersI’ve listened to moons eclectically riseto conundrums blaze & ascendnot as moleculesor distributed torrentsbut as vibrational mazesas curious oneiric cartography Sandstonecarved by elements prone to the Tethys Seaas they carved exploded & asphyxiatedalive with water that both burned & etchedas primordiumthat explodedthat dictated itselfvia primordial grammesto what seems via delimited viewLuciferean & unrulycarving minerals & minerals of rock as hallucinated... Since the living body persistsas strange accelerated crimsonwhat of its post-biology through ideas through ghostly bonding with itself as kinetic?does it persist within its after-state via chewn reindeer?or does it unearth itself via postmortem figment?because kinetics reabsorb themselvesthey remain trenchantas certain... Will Alexander finds ways of writing poems to revitalize language as a whole. Produced by Katie Klocksin. By Will Alexander Implied inner palpability as transpersonal dictationall works composed as a musical arkas if rowing in an isthmus of lightningthe threat through rising vapour currentshissing with dissolutionthis being none other than internal cartographyghostly cipher as interiority by numberagain ghostly flares &... Surrealist poet Philip Lamantia was born in San Francisco in 1927, the son of Sicilian immigrants. Largely self-taught, he started writing in elementary school and became interested in surrealism after... Jenna Peng Interviews Will Alexander Understanding displacementas verbal working valueas unusual breakagethe poem appears beyond protracted strugglebeyond reinvention as demandits evolutive element ascends as blazingas illusive verbal utopiaabove angst as scholarly researchas clinical bravuravia electrical power prone to unexpected magnificationits marrowits bravuraextending out of nothingnesssimultaneous... A continentthat has made a covenant with its own ruinhas made the skies starvedhas made stone momentarily disadvantage itselfIts circumstance deeper than tremors remains equational habit miming itselfvia counted tablets of timenot a mantric blizzard of space into empty airbut every... Fred Moten is a professor of performance studies and comparative literature at New York University concerned with social movement, aesthetic experiment, and Black study. He has written a number of... Mexican author Octavio Paz enjoyed a worldwide reputation as a master poet and essayist. Although Mexico figures prominently in Paz’s work—one of his best-known books,The Labyrinth of Solitude,for... Not having imbibed Ghosts or dust or forces that condone objective terminationI remain as peripheral terminology not unlike the paradoxical swelteringthat erupts from one’s grasppre-cellular in origin Poet Fernando António Nogueira Pêssoa was born in Lisbon, Portugal. His father died when Pessoa was five years old, and the family moved with his mother’s new husband, a consul,... The impact of Arthur Rimbaud’s poetry has been immense. His influence on the Surrealist movement has been widely acknowledged, and a host of poets, from André Breton to André Freynaud,... Hosted by Al Filreis and featuring Kristen Gallagher, Tracie Morris, and Michael Magee.\n",
      "Need a transcript of this episode? Request a transcript here.\n",
      "\n",
      "--- End of Article ---\n",
      "\n"
     ]
    },
    {
     "name": "stdout",
     "output_type": "stream",
     "text": [
      "Title: Courtney Faye Taylor\n",
      "Interviewer: ByAmaud Jamaul Johnson\n",
      "Content: Born and raised in Compton, California, poet Amaud Jamaul Johnson was educated at Howard University and Cornell. His debut collection,Red Summer(2006), examines the infamous race riots of 1919, during which nearly a hundred African American men in cities across the country were lynched. The book won the 2004... Courtney Faye Taylor (she/her) is a writer and visual artist. She is the author ofConcentrate(Graywolf Press, 2022), winner of the 2021 Cave Canem Poetry Prize and the 2023... On today’s episode ofVS, Brittany and Ajanae interview Courtney Faye Taylor about their award winning collectionConcentrate. Listen in as they discuss writing with an ethic of care, studying... Rachel Eliza Griffiths is a multimedia artist, poet, and novelist. Her collection of poetry and photographySeeing the Body(W.W. Norton, 2020) was selected as the winner of the 2021...  Kamilah Aisha Moon was the author of the poetry collectionsStarshine & Clay(2017), a CLMP Firecracker Award finalist featured on NPR's \"All Things Considered\" as a collection that captures America... Poet, essayist, and novelist Alice Walker was born in 1944, in Eatonton, Georgia, to sharecroppers Willie Lee and Minnie Lou Grant Walker. She earned a BA from Sarah Lawrence College....\n",
      "\n",
      "--- End of Article ---\n",
      "\n",
      "Title: Courtney Faye Taylor\n",
      "Interviewer: ByAmaud Jamaul Johnson\n",
      "Content: Born and raised in Compton, California, poet Amaud Jamaul Johnson was educated at Howard University and Cornell. His debut collection,Red Summer(2006), examines the infamous race riots of 1919, during which nearly a hundred African American men in cities across the country were lynched. The book won the 2004... Courtney Faye Taylor (she/her) is a writer and visual artist. She is the author ofConcentrate(Graywolf Press, 2022), winner of the 2021 Cave Canem Poetry Prize and the 2023... On today’s episode ofVS, Brittany and Ajanae interview Courtney Faye Taylor about their award winning collectionConcentrate. Listen in as they discuss writing with an ethic of care, studying... Rachel Eliza Griffiths is a multimedia artist, poet, and novelist. Her collection of poetry and photographySeeing the Body(W.W. Norton, 2020) was selected as the winner of the 2021...  Kamilah Aisha Moon was the author of the poetry collectionsStarshine & Clay(2017), a CLMP Firecracker Award finalist featured on NPR's \"All Things Considered\" as a collection that captures America... Poet, essayist, and novelist Alice Walker was born in 1944, in Eatonton, Georgia, to sharecroppers Willie Lee and Minnie Lou Grant Walker. She earned a BA from Sarah Lawrence College....\n",
      "\n",
      "--- End of Article ---\n",
      "\n",
      "Title: Ted Berrigan\n",
      "Interviewer: ByGarrett Caples\n",
      "Content: Garrett Caples is the author ofLovers of Today(2021),Power Ballads(2016),Retrievals(2014),Quintessence of the Minor: Symbolist Poetry in English(2010),Complications(2007), andThe Garrett Caples Reader(1999). He is an editor at City Lights Books, where he curates the Spotlight poetry series. Caples was... Ted Berrigan was born Edmund Joseph Michael Berrigan, Jr. in Providence, Rhode Island, the oldest of three children of Margaret Dugan and Edmund Berrigan, the chief engineer at Ward’s Baking... Alice Notley has become one of America’s greatest living poets. She has long written in narrative and epic and genre-bending modes to discover new ways to explore the nature of... An introduction to one of the most lasting styles of mid-century American poetry. John Ashbery was recognized as one of the greatest 20th-century American poets. He won nearly every major American award for poetry, including the Pulitzer Prize, the National Book Award, the... The 17th-century Japanese haiku master Bashō was born Matsuo Kinsaku near Kyoto, Japan, to a minor samurai and his wife. Soon after the poet’s birth, Japan closed its borders, beginning... Author of eight books of poetry and numerous chapbooks, Anselm Berrigan earned a BA from SUNY Buffalo and an MFA from Brooklyn College. His collections of poetry includeIntegrity & Dramatic... Edmund Berrigan is the author of the poetry collectionsMore Gone(City Lights, 2019),Glad Stone Children(Farfalla, 2008), andDisarming Matter(Owl Press, 1999), as well as the memoirCan It!(Letter... Born in Salem, Arkansas and raised in Tulsa, artist, poet, and theater set designer Joe Brainard moved to New York City at age 19. There, he joined the community of... Born in Los Angeles, prolific avant-garde composer, writer, and artist John Cage was the son of an inventor and aLos Angeles Timessociety writer. He grew up in Detroit,... Tom Clark combined diverse roles of poet, biographer, novelist, dramatist, reviewer, and sportswriter during his writing career. In addition to dozens of books of poetry, a play, two novels, two... Allen Ginsberg was an acclaimed poet and a leading figure of the Beat Generation whose radical literary works and advocacy for social change left an indelible mark on American counterculture.... Poet and translator Anselm Hollo was born in Helsinki, Finland in 1934. He lived in England for many years, working for the BBC European Services. In 1967, he moved to... Prize-winning author Kenneth Koch published numerous collections of poetry, avant-garde plays, and short fiction while also serving as one of the nation’s best-known creative writing teachers during a career that... Poet, journalist, and filmmaker Lewis MacAdams was born into a family of activists in Dallas, Texas. He earned a BA in English from Princeton University and an MA from the... Eileen Myles was born in Cambridge, Massachusetts, and was educated at the University of Massachusetts-Boston. They moved to New York City in 1974 to be a poet, and subsequently a novelist, art... Frank O'Hara was a dynamic leader of the \"New York School\" of poets, a group that included John Ashbery, Barbara Guest, Kenneth Koch, and James Schuyler. The Abstract Expressionist painters... Poet, editor, and translator Ron Padgett was born in Tulsa, Oklahoma. As a high-school student he founded the avant-garde literary journalThe White Dove Reviewwith his friends and fellow... Nick Sturm is a lecturer in English at Georgia State University and visiting faculty in creative writing at Emory University. He is a co-editor ofGet the Money!: Collected Prose, 1961-1983by... Anne Waldman has been an active member of what she terms the “outrider” experimental poetry community for more than four decades. She has written more than 60 books, includingFast... One of the principal members of the second generation of the New York School poets, Lewis Warsh’s long career spanned the experimental writing movement on both coasts and produced a... On Ted Berrigan’s exuberant and idiosyncratic prose.\n",
      "\n",
      "--- End of Article ---\n",
      "\n",
      "Title: Ted Berrigan\n",
      "Interviewer: ByGarrett Caples\n",
      "Content: Garrett Caples is the author ofLovers of Today(2021),Power Ballads(2016),Retrievals(2014),Quintessence of the Minor: Symbolist Poetry in English(2010),Complications(2007), andThe Garrett Caples Reader(1999). He is an editor at City Lights Books, where he curates the Spotlight poetry series. Caples was... Ted Berrigan was born Edmund Joseph Michael Berrigan, Jr. in Providence, Rhode Island, the oldest of three children of Margaret Dugan and Edmund Berrigan, the chief engineer at Ward’s Baking... Alice Notley has become one of America’s greatest living poets. She has long written in narrative and epic and genre-bending modes to discover new ways to explore the nature of... An introduction to one of the most lasting styles of mid-century American poetry. John Ashbery was recognized as one of the greatest 20th-century American poets. He won nearly every major American award for poetry, including the Pulitzer Prize, the National Book Award, the... The 17th-century Japanese haiku master Bashō was born Matsuo Kinsaku near Kyoto, Japan, to a minor samurai and his wife. Soon after the poet’s birth, Japan closed its borders, beginning... Author of eight books of poetry and numerous chapbooks, Anselm Berrigan earned a BA from SUNY Buffalo and an MFA from Brooklyn College. His collections of poetry includeIntegrity & Dramatic... Edmund Berrigan is the author of the poetry collectionsMore Gone(City Lights, 2019),Glad Stone Children(Farfalla, 2008), andDisarming Matter(Owl Press, 1999), as well as the memoirCan It!(Letter... Born in Salem, Arkansas and raised in Tulsa, artist, poet, and theater set designer Joe Brainard moved to New York City at age 19. There, he joined the community of... Born in Los Angeles, prolific avant-garde composer, writer, and artist John Cage was the son of an inventor and aLos Angeles Timessociety writer. He grew up in Detroit,... Tom Clark combined diverse roles of poet, biographer, novelist, dramatist, reviewer, and sportswriter during his writing career. In addition to dozens of books of poetry, a play, two novels, two... Allen Ginsberg was an acclaimed poet and a leading figure of the Beat Generation whose radical literary works and advocacy for social change left an indelible mark on American counterculture.... Poet and translator Anselm Hollo was born in Helsinki, Finland in 1934. He lived in England for many years, working for the BBC European Services. In 1967, he moved to... Prize-winning author Kenneth Koch published numerous collections of poetry, avant-garde plays, and short fiction while also serving as one of the nation’s best-known creative writing teachers during a career that... Poet, journalist, and filmmaker Lewis MacAdams was born into a family of activists in Dallas, Texas. He earned a BA in English from Princeton University and an MA from the... Eileen Myles was born in Cambridge, Massachusetts, and was educated at the University of Massachusetts-Boston. They moved to New York City in 1974 to be a poet, and subsequently a novelist, art... Frank O'Hara was a dynamic leader of the \"New York School\" of poets, a group that included John Ashbery, Barbara Guest, Kenneth Koch, and James Schuyler. The Abstract Expressionist painters... Poet, editor, and translator Ron Padgett was born in Tulsa, Oklahoma. As a high-school student he founded the avant-garde literary journalThe White Dove Reviewwith his friends and fellow... Nick Sturm is a lecturer in English at Georgia State University and visiting faculty in creative writing at Emory University. He is a co-editor ofGet the Money!: Collected Prose, 1961-1983by... Anne Waldman has been an active member of what she terms the “outrider” experimental poetry community for more than four decades. She has written more than 60 books, includingFast... One of the principal members of the second generation of the New York School poets, Lewis Warsh’s long career spanned the experimental writing movement on both coasts and produced a... On Ted Berrigan’s exuberant and idiosyncratic prose.\n",
      "\n",
      "--- End of Article ---\n",
      "\n"
     ]
    },
    {
     "name": "stdout",
     "output_type": "stream",
     "text": [
      "Title: Rio Cortez\n",
      "Interviewer: ByJ. Howard Rosier\n",
      "Content: J. Howard Rosier's work has appeared inTheNew York Times,The Atlantic,The Nation, and more. He is a board member of the National Book Critics Circle. Rio Cortez is the author ofGolden Ax(Penguin Poets, 2022), as well as the picture bookThe ABCs of Black History(Workman, 2020). Her chapbookI Have Learned to Define a Field As... Gwendolyn Brooks is one of the most influential and widely read 20th-century American poets. The author of more than 20 books, she was highly regarded even during her lifetime and... Herman Poole Blount (Sun Ra) was born and raised in Alabama became involved in the jazz scene in Chicago after World War II. He abandoned his birth name, taking the...\n",
      "\n",
      "--- End of Article ---\n",
      "\n",
      "Title: Rio Cortez\n",
      "Interviewer: ByJ. Howard Rosier\n",
      "Content: J. Howard Rosier's work has appeared inTheNew York Times,The Atlantic,The Nation, and more. He is a board member of the National Book Critics Circle. Rio Cortez is the author ofGolden Ax(Penguin Poets, 2022), as well as the picture bookThe ABCs of Black History(Workman, 2020). Her chapbookI Have Learned to Define a Field As... Gwendolyn Brooks is one of the most influential and widely read 20th-century American poets. The author of more than 20 books, she was highly regarded even during her lifetime and... Herman Poole Blount (Sun Ra) was born and raised in Alabama became involved in the jazz scene in Chicago after World War II. He abandoned his birth name, taking the...\n",
      "\n",
      "--- End of Article ---\n",
      "\n",
      "Title: Adrian Matejka\n",
      "Interviewer: ByRowan Ricardo Phillips\n",
      "Content: Rowan Ricardo Phillips is the author of six books, all published by Farrar, Straus, and Giroux:When Blackness Rhymes with Blackness(2010),The Ground(2012),Heaven(2015),The Circuit(2018),Living Weapon(2020), and the forthcomingSilver(2024). He is also the author of a book-length translation, from the Catalan, of Salvador Espriu’sAriadne in the Grotesque Labyrinth(2012).\n",
      "His books have been named... Adrian Matejka was born in Nuremberg, Germany and grew up in Indianapolis, Indiana. Matejka served as Poet Laureate of the state of Indiana in 2018–19, and he became the editor... Adrian Matejka reads his poem, “Seven Days of Falling”. Adrian Matejka (he/him/his) reads the poem, \"You and I Are Disappearing\" by Yusef Komunyakaa. Gwendolyn Brooks is one of the most influential and widely read 20th-century American poets. The author of more than 20 books, she was highly regarded even during her lifetime and... by Adrian Matejka By Adrian Matejka Allison Joseph was born in London, England, to Caribbean parents and grew up in Toronto and the Bronx. She earned a BA from Kenyon College and an MFA from Indiana... Etheridge Knight was born in Corinth, Mississippi. He dropped out of high school while still a teenager and joined the army to serve in the Korea war. Wounded by shrapnel... by Adrian Matejka Adrian Matejka and the editors discuss the essay \"Family Pictures, Old & New\" from the June 2017 issue ofPoetry.\n",
      "Need a transcript of this episode? Request a transcript here. Adrian Matejka on his new book,Somebody Else Sold the World. Jon Tribble was born in Little Rock, Arkansas. He grew up in Aldersgate Camp just outside of Little Rock, a church camp devoted to medical and social services programming. He...\n",
      "\n",
      "--- End of Article ---\n",
      "\n",
      "Title: Adrian Matejka\n",
      "Interviewer: ByRowan Ricardo Phillips\n",
      "Content: Rowan Ricardo Phillips is the author of six books, all published by Farrar, Straus, and Giroux:When Blackness Rhymes with Blackness(2010),The Ground(2012),Heaven(2015),The Circuit(2018),Living Weapon(2020), and the forthcomingSilver(2024). He is also the author of a book-length translation, from the Catalan, of Salvador Espriu’sAriadne in the Grotesque Labyrinth(2012).\n",
      "His books have been named... Adrian Matejka was born in Nuremberg, Germany and grew up in Indianapolis, Indiana. Matejka served as Poet Laureate of the state of Indiana in 2018–19, and he became the editor... Adrian Matejka reads his poem, “Seven Days of Falling”. Adrian Matejka (he/him/his) reads the poem, \"You and I Are Disappearing\" by Yusef Komunyakaa. Gwendolyn Brooks is one of the most influential and widely read 20th-century American poets. The author of more than 20 books, she was highly regarded even during her lifetime and... by Adrian Matejka By Adrian Matejka Allison Joseph was born in London, England, to Caribbean parents and grew up in Toronto and the Bronx. She earned a BA from Kenyon College and an MFA from Indiana... Etheridge Knight was born in Corinth, Mississippi. He dropped out of high school while still a teenager and joined the army to serve in the Korea war. Wounded by shrapnel... by Adrian Matejka Adrian Matejka and the editors discuss the essay \"Family Pictures, Old & New\" from the June 2017 issue ofPoetry.\n",
      "Need a transcript of this episode? Request a transcript here. Adrian Matejka on his new book,Somebody Else Sold the World. Jon Tribble was born in Little Rock, Arkansas. He grew up in Aldersgate Camp just outside of Little Rock, a church camp devoted to medical and social services programming. He...\n",
      "\n",
      "--- End of Article ---\n",
      "\n",
      "Title: Micah Ballard\n",
      "Interviewer: ByKevin O'Rourke\n",
      "Content: Kevin O’Rourke lives in Philadelphia, where he works in publishing and writes about science. His first book is the essay collectionAs If Seen at an Angle(Tinderbox Editions, 2017). He is currently working on several follow-up projects, including a book about surviving suicide. Other writing has appeared in the... Poet Micah Ballard was born in Baton Rouge, Louisiana, and earned an MA and MFA from the New College of California. He studied with poet Joanne Kyger and has written... Joshua Beckman was born in New Haven, Connecticut, and attended Hampshire College. An editor at Wave Books, he is the author ofThings Are Happening(1998), winner of the APR/Honickman... Born in New York in 1939, Bill Berkson was a poet, critic, teacher and sometime curator, who became active in the art and literary worlds in his early twenties. He... Garrett Caples is the author ofLovers of Today(2021),Power Ballads(2016),Retrievals(2014),Quintessence of the Minor: Symbolist Poetry in English(2010),Complications(2007), andThe Garrett Caples... Described by Kenneth Rexroth as “one of the most accomplished, one of the most influential” of the postwar American poets, Robert Duncan was an important part of both the Black... Poet, playwright, publisher, and activist Lawrence Ferlinghetti was born Lawrence Monsanto Ferling on March 24, 1919 in Yonkers, New York. His father, an Italian immigrant, had shortened the family name... Surrealist poet Philip Lamantia was born in San Francisco in 1927, the son of Sicilian immigrants. Largely self-taught, he started writing in elementary school and became interested in surrealism after... Beat poet, playwright, novelist, and documentary filmmaker Michael McClure was born in Marysville, Kansas, and raised there and in Seattle. Educated at the University of Wichita, the University of Arizona,... David Meltzer was born in Rochester, New York, and raised in Brooklyn. He began his literary career during the San Francisco Beat and Berkeley Renaissance period in North Beach, California,... the union president’s dead& they won’t let transgenderpeople pee in north carolina& here i’m complaining aboutclimbing the mountain againthe mountain’ll always remainif i’m lucky, to keep me fromsucking & only a king mule willdo. humbled by bill as he goesthrough... Garrett Caples pays tribute to poet Bill Berkson, a personal friend and a central figure in American poetry since the 1960s. Produced by Sarah Geis.\n",
      "Need a transcript of this episode?...\n",
      "\n",
      "--- End of Article ---\n",
      "\n",
      "Title: Micah Ballard\n",
      "Interviewer: ByKevin O'Rourke\n",
      "Content: Kevin O’Rourke lives in Philadelphia, where he works in publishing and writes about science. His first book is the essay collectionAs If Seen at an Angle(Tinderbox Editions, 2017). He is currently working on several follow-up projects, including a book about surviving suicide. Other writing has appeared in the... Poet Micah Ballard was born in Baton Rouge, Louisiana, and earned an MA and MFA from the New College of California. He studied with poet Joanne Kyger and has written... Joshua Beckman was born in New Haven, Connecticut, and attended Hampshire College. An editor at Wave Books, he is the author ofThings Are Happening(1998), winner of the APR/Honickman... Born in New York in 1939, Bill Berkson was a poet, critic, teacher and sometime curator, who became active in the art and literary worlds in his early twenties. He... Garrett Caples is the author ofLovers of Today(2021),Power Ballads(2016),Retrievals(2014),Quintessence of the Minor: Symbolist Poetry in English(2010),Complications(2007), andThe Garrett Caples... Described by Kenneth Rexroth as “one of the most accomplished, one of the most influential” of the postwar American poets, Robert Duncan was an important part of both the Black... Poet, playwright, publisher, and activist Lawrence Ferlinghetti was born Lawrence Monsanto Ferling on March 24, 1919 in Yonkers, New York. His father, an Italian immigrant, had shortened the family name... Surrealist poet Philip Lamantia was born in San Francisco in 1927, the son of Sicilian immigrants. Largely self-taught, he started writing in elementary school and became interested in surrealism after... Beat poet, playwright, novelist, and documentary filmmaker Michael McClure was born in Marysville, Kansas, and raised there and in Seattle. Educated at the University of Wichita, the University of Arizona,... David Meltzer was born in Rochester, New York, and raised in Brooklyn. He began his literary career during the San Francisco Beat and Berkeley Renaissance period in North Beach, California,... the union president’s dead& they won’t let transgenderpeople pee in north carolina& here i’m complaining aboutclimbing the mountain againthe mountain’ll always remainif i’m lucky, to keep me fromsucking & only a king mule willdo. humbled by bill as he goesthrough... Garrett Caples pays tribute to poet Bill Berkson, a personal friend and a central figure in American poetry since the 1960s. Produced by Sarah Geis.\n",
      "Need a transcript of this episode?...\n",
      "\n",
      "--- End of Article ---\n",
      "\n"
     ]
    },
    {
     "name": "stdout",
     "output_type": "stream",
     "text": [
      "Title: Patricia Smith\n",
      "Interviewer: BySaeed Jones\n",
      "Content: Saeed Jones was born in Memphis and raised in Lewisville, Texas. His poems often examine race, desire, power, and grief, and incorporate mythology as well as what he calls “black iconography.” In a 2014 interview for PEN America, Jones stated, “I’m obsessed with manhood as a brutal and artful performance.... Patricia Smith (she/her) has been called “a testament to the power of words to change lives.” She is the author ofUnshuttered(Northwestern University Press, 2023),Incendiary Art(Northwestern University Press,... The 2021 Pegasus Awards Ceremony celebrated winners of the Poetry Foundation’s annual awards, including: Patricia Smith as winner of the 2021 Ruth Lilly Poetry Prize, Susan Briante as winner of... By Patricia Smith This installation, created by artist and designer Bob Faust, rejoices in the poems of Patricia Smith and invites you to recall our connectedness and partake in healing.\n",
      "Smith, who was raised... By Patricia Smith By Patricia Smith By Patricia Smith By Patricia Smith Season 3 of VS goes out with a bang! Franny and Danez take the stage as part of the Chicago Humanities Festival with the true gawd of this poetry world...\n",
      "\n",
      "--- End of Article ---\n",
      "\n",
      "Title: Patricia Smith\n",
      "Interviewer: BySaeed Jones\n",
      "Content: Saeed Jones was born in Memphis and raised in Lewisville, Texas. His poems often examine race, desire, power, and grief, and incorporate mythology as well as what he calls “black iconography.” In a 2014 interview for PEN America, Jones stated, “I’m obsessed with manhood as a brutal and artful performance.... Patricia Smith (she/her) has been called “a testament to the power of words to change lives.” She is the author ofUnshuttered(Northwestern University Press, 2023),Incendiary Art(Northwestern University Press,... The 2021 Pegasus Awards Ceremony celebrated winners of the Poetry Foundation’s annual awards, including: Patricia Smith as winner of the 2021 Ruth Lilly Poetry Prize, Susan Briante as winner of... By Patricia Smith This installation, created by artist and designer Bob Faust, rejoices in the poems of Patricia Smith and invites you to recall our connectedness and partake in healing.\n",
      "Smith, who was raised... By Patricia Smith By Patricia Smith By Patricia Smith By Patricia Smith Season 3 of VS goes out with a bang! Franny and Danez take the stage as part of the Chicago Humanities Festival with the true gawd of this poetry world...\n",
      "\n",
      "--- End of Article ---\n",
      "\n",
      "Title: Following the Impulse of the Brush\n",
      "Interviewer: By Arthur Sze\n",
      "Content: A conversation with Kimiko Hahn, winner of the 2023 Ruth Lilly Poetry Prize. Stephanie McCarter on her feminist translation of Ovid. The DeafBlind poet John Lee Clark finds his native language. Will Alexander on poetry, consciousness, and the energy of language. A year before the 1992 LA Uprising, a Black teenager named Latasha Harlins was killed in a corner store.Concentrate, Courtney Faye Taylor’s debut, revisits that tragedy—and the life that... Alice Notley on her life with Ted Berrigan. Rio Cortez on Afropioneerism out West. A conversation with Adrian Matejka,Poetry’s new editor. Garrett Caples wrestles with “the impervious world” in his latest collection,Lovers of Today. A conversation with Patricia Smith, winner of the 2021 Ruth Lilly Poetry Prize.\n",
      "\n",
      "--- End of Article ---\n",
      "\n",
      "Title: Starting From the Middle\n",
      "Interviewer: By Lily Meyer\n",
      "Content: Adrian Matejka on his new book,Somebody Else Sold the World. The Swedish poet on his travels in the American counterculture. Zoë Hitzig’s debut,Mezzanine, explores a late-capitalist purgatory. A conversation with Marilyn Chin, winner of the 2020 Ruth Lilly Poetry Prize. Mark Nowak on his \"people's history of the poetry workshop.\" Arielle Greenberg left the city—and opened her marriage. Hannah Sullivan on failure, form, and paying attention to the ordinary. Paige Lewis finds divinity in the everyday. Aria Aber on language and exile. Jake Skeets's debut reimagines stock representations of Native Americans.\n",
      "\n",
      "--- End of Article ---\n",
      "\n",
      "Title: She Spares Nothing\n",
      "Interviewer: By Kathleen Rooney\n",
      "Content: A new translation introduces English-language readers to Miyó Vestrini, a Venezuelan poet who had a radiant obsession with death. Eve L. Ewing revisits the deadly riots of 1919. Two poets on queerness, immigrants, and cyborgs. A new photobook captures Emily Dickinson's hometown through a crooked lens. A conversation with Marilyn Nelson, winner of the 2019 Ruth Lilly Poetry Prize. Craig Morgan Teicher on creativity, voice, and how poets evolve. Jacob Saenz’s debut,Throwing the Crown, offers tough takes on masculinity. Jamila Woods debuts her new music video. sam sax’s new collection,Bury It, is a queer coming-of-age story. Emily Jungmin Yoon’s debut evokes a dark chapter in history.\n",
      "\n",
      "--- End of Article ---\n",
      "\n",
      "Title: Praise Songs\n",
      "Interviewer: By Britteney Black Rose Kapri & José Olivarez\n",
      "Content: Two Chicago poets talk about their debuts. Martín Espada on his life in poetry. Hieu Minh Nguyen on vulnerability, whiteness, and why he loves the Midwest. For Tarfia Faizullah, poetry is time travel. In his new one-man show, the famed dancer pays tribute to Joseph Brodsky’s inner world. Stephanie Burt on girlhood, Twitter, and the pleasure of proper nouns. Marcus Wicker on comedy, Wu-Tang, and all that influences his poetry. Margarita Engle, the new Young People’s Poet Laureate, found her home in books. Patricia Smith on form, fathers, and the voice you don’t hear. Pattiann Rogers on her 13th collection and celebrating science in poetry.\n",
      "\n",
      "--- End of Article ---\n",
      "\n",
      "Title: Beyond Language\n",
      "Interviewer: By Layli Long Soldier\n",
      "Content: Joy Harjo on writing her life in poetry. Michael McClure on his 25th volume of poetry and more. W.S. Merwin on his long career and trying to enjoy his luck. Ocean Vuong on exploring fear, his family, and why turning your back on your work is a good idea. Kwame Dawes on directing the African Poetry Book Fund. Tyehimba Jess brings 19th-century black musicians back to life. Ta-Nehisi Coates onMacbeth, Sonia Sanchez, and how poetry shaped him into the writer he is today. Why Lola Ridge is ripe for rediscovery. Ross Gay on the connections between gardening and poetry. Morgan Parker talks about Twitter, the importance of accountability, and leaving no emotional stone unturned.\n",
      "\n",
      "--- End of Article ---\n",
      "\n",
      "Title: Living Tradition\n",
      "Interviewer: By Alex Dueben\n",
      "Content: Clare Cavanagh talks about the joys and challenges of translation. Tavi Gevinson on riot grrrl, Patti Smith, and writing poetry out of necessity. Jacqueline Woodson, the new young people’s poet laureate, on why poetry is a party everyone is invited to. Maggie Nelson on birth, death, and everything in between. Ruth Lilly Prize winner Alice Notley on the voice and spirits of her poetry. Ruth Lilly Prize winner Alice Notley on the voice and spirits of her poetry. Richard Siken on writing, the joys of painting, and the challenges of publishing his first book in a decade. August Wilson never left poetry behind. P. Scott Cunningham on launching a publishing imprint, what a Basque sport has to do with books, and why nothing in Miami is ever settled. Bob Holman on the Nuyorican, oral tradition, and how poetry led him to activism.\n",
      "\n",
      "--- End of Article ---\n",
      "\n",
      "Title: Starting From the Middle\n",
      "Interviewer: By Lily Meyer\n",
      "Content: Adrian Matejka on his new book,Somebody Else Sold the World. The Swedish poet on his travels in the American counterculture. Zoë Hitzig’s debut,Mezzanine, explores a late-capitalist purgatory. A conversation with Marilyn Chin, winner of the 2020 Ruth Lilly Poetry Prize. Mark Nowak on his \"people's history of the poetry workshop.\" Arielle Greenberg left the city—and opened her marriage. Hannah Sullivan on failure, form, and paying attention to the ordinary. Paige Lewis finds divinity in the everyday. Aria Aber on language and exile. Jake Skeets's debut reimagines stock representations of Native Americans.\n",
      "\n",
      "--- End of Article ---\n",
      "\n",
      "Title: 2023: Poetry's Year in Prose\n",
      "Interviewer: By The Editors\n",
      "Content: A reading list of our 2023 features. How Robert Frost made poetry modern. Christian Wiman'sZero at the Boneblends memoir and theology, criticism and poetry into a mystical commonplace book for Armageddon. Modernism at the 1913 Armory Show Architecture and Planning in Chicago Harriet Monroe on the Artist’s Audience A new biography of Jane Kenyon frees the poet from the shadow of her famous older husband. Brian Teare'sPoem Bitten by a Manis a hybrid book that presses language into and against visual art. A new edition of Tomas Tranströmer’s collected works showcases his wild associative leaps. Four hundred unruly, obsessive, baffling years of Shakespeare’s First Folio.\n",
      "\n",
      "--- End of Article ---\n",
      "\n",
      "Title: Following the Impulse of the Brush\n",
      "Interviewer: By Arthur Sze\n",
      "Content: A conversation with Kimiko Hahn, winner of the 2023 Ruth Lilly Poetry Prize. Stephanie McCarter on her feminist translation of Ovid. The DeafBlind poet John Lee Clark finds his native language. Will Alexander on poetry, consciousness, and the energy of language. A year before the 1992 LA Uprising, a Black teenager named Latasha Harlins was killed in a corner store.Concentrate, Courtney Faye Taylor’s debut, revisits that tragedy—and the life that... Alice Notley on her life with Ted Berrigan. Rio Cortez on Afropioneerism out West. A conversation with Adrian Matejka,Poetry’s new editor. Garrett Caples wrestles with “the impervious world” in his latest collection,Lovers of Today. A conversation with Patricia Smith, winner of the 2021 Ruth Lilly Poetry Prize.\n",
      "\n",
      "--- End of Article ---\n",
      "\n"
     ]
    },
    {
     "name": "stdout",
     "output_type": "stream",
     "text": [
      "Title: Harriet Monroe, Art Critic\n",
      "Interviewer: By Mark Pohlad\n",
      "Content: Reading the visual in theChicago Daily Tribune Gjertrud Schnackenberg’s best poems play form against theme, and then some. Bianca Stone, Ruth Stone’s granddaughter, charts her own poetic territory Leigh Stein’s blinkering, connected verse Omar Pérez is an island unto himself. A doctor’s grim prognosis gave Timothy Donnelly a new outlook on life—and poetry. Martín Espada looks for poetic life outside the MFA universe. The surrealist adventurer of Stockton, California. Can two women write like one man? Tacoma, Washington's reclusive genius.\n",
      "\n",
      "--- End of Article ---\n",
      "\n",
      "Title: 2023: Poetry's Year in Prose\n",
      "Interviewer: By The Editors\n",
      "Content: A reading list of our 2023 features. How Robert Frost made poetry modern. Christian Wiman'sZero at the Boneblends memoir and theology, criticism and poetry into a mystical commonplace book for Armageddon. Reading the visual in theChicago Daily Tribune\n",
      "\n",
      "--- End of Article ---\n",
      "\n"
     ]
    }
   ],
   "source": [
    "import requests\n",
    "from bs4 import BeautifulSoup\n",
    "import time\n",
    "\n",
    "base_url = 'https://www.poetryfoundation.org'\n",
    "headers = {'User-Agent': 'Mozilla/5.0 (Windows NT 10.0; Win64; x64) AppleWebKit/537.36 (KHTML, like Gecko) Chrome/58.0.3029.110 Safari/537.3'}\n",
    "\n",
    "for article_link in filtered_links:\n",
    "    full_url = base_url + article_link if not article_link.startswith('http') else article_link\n",
    "    try:\n",
    "        article_response = requests.get(full_url, headers=headers)\n",
    "        article_response.raise_for_status()\n",
    "        article_soup = BeautifulSoup(article_response.content, 'html.parser')\n",
    "\n",
    "        title_tag = article_soup.find('h2')\n",
    "        title = title_tag.get_text(strip=True) if title_tag else 'Title Not Found'\n",
    "\n",
    "        interviewer_tag = article_soup.find('span', class_='c-txt c-txt_attribution')\n",
    "        interviewer = interviewer_tag.get_text(strip=True) if interviewer_tag else 'Interviewer Not Found'\n",
    "\n",
    "        content_tags = article_soup.find_all('div', class_=\"c-feature-bd\")\n",
    "        content = ' '.join([tag.get_text(strip=True) for tag in content_tags]) if content_tags else 'Content Not Found'\n",
    "\n",
    "        print(f\"Title: {title}\")\n",
    "        print(f\"Interviewer: {interviewer}\")\n",
    "        print(f\"Content: {content}\")\n",
    "        print(\"\\n--- End of Article ---\\n\")\n",
    "\n",
    "    except requests.HTTPError as e:\n",
    "        print(f\"HTTP Error: {e}\")\n",
    "    except requests.RequestException as e:\n",
    "        print(f\"Error: {e}\")\n",
    "    except Exception as e:\n",
    "        print(f\"An error occurred: {e}\")"
   ]
  },
  {
   "cell_type": "markdown",
   "metadata": {},
   "source": [
    "Lastly, to organize the corpus, we will convert the file to csv."
   ]
  },
  {
   "cell_type": "code",
   "execution_count": 16,
   "metadata": {},
   "outputs": [],
   "source": [
    "import pandas as pd\n",
    "\n",
    "# Create lists to store data\n",
    "titles = []\n",
    "interviewers = []\n",
    "contents = []\n",
    "\n",
    "# Read data from the text file\n",
    "with open('scraped_articles.txt', 'r', encoding='utf-8') as file:\n",
    "    current_article = {'Title': '', 'Interviewer': '', 'Content': ''}\n",
    "    for line in file:\n",
    "        line = line.strip()\n",
    "        if line.startswith(\"Title: \"):\n",
    "            current_article['Title'] = line.replace(\"Title: \", \"\").strip()\n",
    "        elif line.startswith(\"Interviewer: \"):\n",
    "            current_article['Interviewer'] = line.replace(\"Interviewer: \", \"\").strip()\n",
    "        elif line.startswith(\"Content: \"):\n",
    "            current_article['Content'] += line.replace(\"Content: \", \"\").strip() + \" \"\n",
    "        elif line == \"--- End of Article ---\":\n",
    "            \n",
    "            if current_article['Content']:\n",
    "                titles.append(current_article['Title'])\n",
    "                interviewers.append(current_article['Interviewer'])\n",
    "                contents.append(current_article['Content'].strip())\n",
    "            \n",
    "            current_article = {'Title': '', 'Interviewer': '', 'Content': ''}\n",
    "\n",
    "# Create a DataFrame\n",
    "df = pd.DataFrame({'Title': titles, 'Interviewer': interviewers, 'Content': contents})\n",
    "\n",
    "# Save the DataFrame as a CSV file\n",
    "df.to_csv('corpus_data.csv', index=False)\n"
   ]
  },
  {
   "cell_type": "code",
   "execution_count": 19,
   "metadata": {},
   "outputs": [
    {
     "data": {
      "text/html": [
       "<div>\n",
       "<style scoped>\n",
       "    .dataframe tbody tr th:only-of-type {\n",
       "        vertical-align: middle;\n",
       "    }\n",
       "\n",
       "    .dataframe tbody tr th {\n",
       "        vertical-align: top;\n",
       "    }\n",
       "\n",
       "    .dataframe thead th {\n",
       "        text-align: right;\n",
       "    }\n",
       "</style>\n",
       "<table border=\"1\" class=\"dataframe\">\n",
       "  <thead>\n",
       "    <tr style=\"text-align: right;\">\n",
       "      <th></th>\n",
       "      <th>Title</th>\n",
       "      <th>Interviewer</th>\n",
       "      <th>Content</th>\n",
       "    </tr>\n",
       "  </thead>\n",
       "  <tbody>\n",
       "    <tr>\n",
       "      <th>0</th>\n",
       "      <td>2023: Poetry's Year in Prose</td>\n",
       "      <td>By The Editors</td>\n",
       "      <td>A reading list of our 2023 features. How Rober...</td>\n",
       "    </tr>\n",
       "    <tr>\n",
       "      <th>1</th>\n",
       "      <td>Following the Impulse of the Brush</td>\n",
       "      <td>By Arthur Sze</td>\n",
       "      <td>A conversation with Kimiko Hahn, winner of the...</td>\n",
       "    </tr>\n",
       "    <tr>\n",
       "      <th>2</th>\n",
       "      <td>Harriet Monroe, Art Critic</td>\n",
       "      <td>By Mark Pohlad</td>\n",
       "      <td>Reading the visual in theChicago Daily Tribune...</td>\n",
       "    </tr>\n",
       "    <tr>\n",
       "      <th>3</th>\n",
       "      <td>2023: Poetry's Year in Prose</td>\n",
       "      <td>By The Editors</td>\n",
       "      <td>A reading list of our 2023 features. How Rober...</td>\n",
       "    </tr>\n",
       "    <tr>\n",
       "      <th>4</th>\n",
       "      <td>2023: Poetry's Year in Prose</td>\n",
       "      <td>By The Editors</td>\n",
       "      <td>A reading list of our 2023 features. How Rober...</td>\n",
       "    </tr>\n",
       "    <tr>\n",
       "      <th>5</th>\n",
       "      <td>Following the Impulse of the Brush</td>\n",
       "      <td>By Arthur Sze</td>\n",
       "      <td>A conversation with Kimiko Hahn, winner of the...</td>\n",
       "    </tr>\n",
       "    <tr>\n",
       "      <th>6</th>\n",
       "      <td>Harriet Monroe, Art Critic</td>\n",
       "      <td>By Mark Pohlad</td>\n",
       "      <td>Reading the visual in theChicago Daily Tribune...</td>\n",
       "    </tr>\n",
       "    <tr>\n",
       "      <th>7</th>\n",
       "      <td>2023: Poetry's Year in Prose</td>\n",
       "      <td>By The Editors</td>\n",
       "      <td>A reading list of our 2023 features. How Rober...</td>\n",
       "    </tr>\n",
       "    <tr>\n",
       "      <th>8</th>\n",
       "      <td>2023: Poetry's Year in Prose</td>\n",
       "      <td>By The Editors</td>\n",
       "      <td>A reading list of our 2023 features. How Rober...</td>\n",
       "    </tr>\n",
       "    <tr>\n",
       "      <th>9</th>\n",
       "      <td>2023: Poetry's Year in Prose</td>\n",
       "      <td>By The Editors</td>\n",
       "      <td>A reading list of our 2023 features. How Rober...</td>\n",
       "    </tr>\n",
       "    <tr>\n",
       "      <th>10</th>\n",
       "      <td>Following the Impulse of the Brush</td>\n",
       "      <td>By Arthur Sze</td>\n",
       "      <td>A conversation with Kimiko Hahn, winner of the...</td>\n",
       "    </tr>\n",
       "    <tr>\n",
       "      <th>11</th>\n",
       "      <td>Harriet Monroe, Art Critic</td>\n",
       "      <td>By Mark Pohlad</td>\n",
       "      <td>Reading the visual in theChicago Daily Tribune...</td>\n",
       "    </tr>\n",
       "    <tr>\n",
       "      <th>12</th>\n",
       "      <td>Kimiko Hahn: Selections</td>\n",
       "      <td>By Amy Wright</td>\n",
       "      <td>Poems by a poet-scientist Poems by an interdis...</td>\n",
       "    </tr>\n",
       "    <tr>\n",
       "      <th>13</th>\n",
       "      <td>Editor’s Note</td>\n",
       "      <td>By Adrian Matejka</td>\n",
       "      <td>An introduction to our June Jordan folio.</td>\n",
       "    </tr>\n",
       "    <tr>\n",
       "      <th>14</th>\n",
       "      <td>Margaret Walker’s “For My People”</td>\n",
       "      <td>By CM Burroughs</td>\n",
       "      <td>There is lightness within these downtrodden li...</td>\n",
       "    </tr>\n",
       "    <tr>\n",
       "      <th>15</th>\n",
       "      <td>Cracks in the Oracle Bone: Teaching Certain Co...</td>\n",
       "      <td>Interviewer Not Found</td>\n",
       "      <td>I’m thrilled to be presenting a lecture honori...</td>\n",
       "    </tr>\n",
       "    <tr>\n",
       "      <th>16</th>\n",
       "      <td>Kimiko Hahn</td>\n",
       "      <td>ByArthur Sze</td>\n",
       "      <td>Arthur Sze is a poet, a translator, and an edi...</td>\n",
       "    </tr>\n",
       "    <tr>\n",
       "      <th>17</th>\n",
       "      <td>Kimiko Hahn</td>\n",
       "      <td>ByArthur Sze</td>\n",
       "      <td>Arthur Sze is a poet, a translator, and an edi...</td>\n",
       "    </tr>\n",
       "    <tr>\n",
       "      <th>18</th>\n",
       "      <td>Ovid</td>\n",
       "      <td>ByLily Meyer</td>\n",
       "      <td>Lily Meyer is a writer, translator, and critic...</td>\n",
       "    </tr>\n",
       "    <tr>\n",
       "      <th>19</th>\n",
       "      <td>Ovid</td>\n",
       "      <td>ByLily Meyer</td>\n",
       "      <td>Lily Meyer is a writer, translator, and critic...</td>\n",
       "    </tr>\n",
       "    <tr>\n",
       "      <th>20</th>\n",
       "      <td>John Lee Clark</td>\n",
       "      <td>ByRachel Kolb</td>\n",
       "      <td>Rachel Kolb is a Deaf writer, scholar, and adv...</td>\n",
       "    </tr>\n",
       "    <tr>\n",
       "      <th>21</th>\n",
       "      <td>John Lee Clark</td>\n",
       "      <td>ByRachel Kolb</td>\n",
       "      <td>Rachel Kolb is a Deaf writer, scholar, and adv...</td>\n",
       "    </tr>\n",
       "    <tr>\n",
       "      <th>22</th>\n",
       "      <td>Will Alexander</td>\n",
       "      <td>ByJenna Peng</td>\n",
       "      <td>Jenna Peng is a reader forPoetrymagazine, asso...</td>\n",
       "    </tr>\n",
       "    <tr>\n",
       "      <th>23</th>\n",
       "      <td>Will Alexander</td>\n",
       "      <td>ByJenna Peng</td>\n",
       "      <td>Jenna Peng is a reader forPoetrymagazine, asso...</td>\n",
       "    </tr>\n",
       "    <tr>\n",
       "      <th>24</th>\n",
       "      <td>Courtney Faye Taylor</td>\n",
       "      <td>ByAmaud Jamaul Johnson</td>\n",
       "      <td>Born and raised in Compton, California, poet A...</td>\n",
       "    </tr>\n",
       "    <tr>\n",
       "      <th>25</th>\n",
       "      <td>Courtney Faye Taylor</td>\n",
       "      <td>ByAmaud Jamaul Johnson</td>\n",
       "      <td>Born and raised in Compton, California, poet A...</td>\n",
       "    </tr>\n",
       "    <tr>\n",
       "      <th>26</th>\n",
       "      <td>Ted Berrigan</td>\n",
       "      <td>ByGarrett Caples</td>\n",
       "      <td>Garrett Caples is the author ofLovers of Today...</td>\n",
       "    </tr>\n",
       "    <tr>\n",
       "      <th>27</th>\n",
       "      <td>Ted Berrigan</td>\n",
       "      <td>ByGarrett Caples</td>\n",
       "      <td>Garrett Caples is the author ofLovers of Today...</td>\n",
       "    </tr>\n",
       "    <tr>\n",
       "      <th>28</th>\n",
       "      <td>Rio Cortez</td>\n",
       "      <td>ByJ. Howard Rosier</td>\n",
       "      <td>J. Howard Rosier's work has appeared inTheNew ...</td>\n",
       "    </tr>\n",
       "    <tr>\n",
       "      <th>29</th>\n",
       "      <td>Rio Cortez</td>\n",
       "      <td>ByJ. Howard Rosier</td>\n",
       "      <td>J. Howard Rosier's work has appeared inTheNew ...</td>\n",
       "    </tr>\n",
       "    <tr>\n",
       "      <th>30</th>\n",
       "      <td>Adrian Matejka</td>\n",
       "      <td>ByRowan Ricardo Phillips</td>\n",
       "      <td>Rowan Ricardo Phillips is the author of six bo...</td>\n",
       "    </tr>\n",
       "    <tr>\n",
       "      <th>31</th>\n",
       "      <td>Adrian Matejka</td>\n",
       "      <td>ByRowan Ricardo Phillips</td>\n",
       "      <td>Rowan Ricardo Phillips is the author of six bo...</td>\n",
       "    </tr>\n",
       "    <tr>\n",
       "      <th>32</th>\n",
       "      <td>Micah Ballard</td>\n",
       "      <td>ByKevin O'Rourke</td>\n",
       "      <td>Kevin O’Rourke lives in Philadelphia, where he...</td>\n",
       "    </tr>\n",
       "    <tr>\n",
       "      <th>33</th>\n",
       "      <td>Micah Ballard</td>\n",
       "      <td>ByKevin O'Rourke</td>\n",
       "      <td>Kevin O’Rourke lives in Philadelphia, where he...</td>\n",
       "    </tr>\n",
       "    <tr>\n",
       "      <th>34</th>\n",
       "      <td>Patricia Smith</td>\n",
       "      <td>BySaeed Jones</td>\n",
       "      <td>Saeed Jones was born in Memphis and raised in ...</td>\n",
       "    </tr>\n",
       "    <tr>\n",
       "      <th>35</th>\n",
       "      <td>Patricia Smith</td>\n",
       "      <td>BySaeed Jones</td>\n",
       "      <td>Saeed Jones was born in Memphis and raised in ...</td>\n",
       "    </tr>\n",
       "    <tr>\n",
       "      <th>36</th>\n",
       "      <td>Following the Impulse of the Brush</td>\n",
       "      <td>By Arthur Sze</td>\n",
       "      <td>A conversation with Kimiko Hahn, winner of the...</td>\n",
       "    </tr>\n",
       "    <tr>\n",
       "      <th>37</th>\n",
       "      <td>Starting From the Middle</td>\n",
       "      <td>By Lily Meyer</td>\n",
       "      <td>Adrian Matejka on his new book,Somebody Else S...</td>\n",
       "    </tr>\n",
       "    <tr>\n",
       "      <th>38</th>\n",
       "      <td>She Spares Nothing</td>\n",
       "      <td>By Kathleen Rooney</td>\n",
       "      <td>A new translation introduces English-language ...</td>\n",
       "    </tr>\n",
       "    <tr>\n",
       "      <th>39</th>\n",
       "      <td>Praise Songs</td>\n",
       "      <td>By Britteney Black Rose Kapri &amp; José Olivarez</td>\n",
       "      <td>Two Chicago poets talk about their debuts. Mar...</td>\n",
       "    </tr>\n",
       "    <tr>\n",
       "      <th>40</th>\n",
       "      <td>Beyond Language</td>\n",
       "      <td>By Layli Long Soldier</td>\n",
       "      <td>Joy Harjo on writing her life in poetry. Micha...</td>\n",
       "    </tr>\n",
       "    <tr>\n",
       "      <th>41</th>\n",
       "      <td>Living Tradition</td>\n",
       "      <td>By Alex Dueben</td>\n",
       "      <td>Clare Cavanagh talks about the joys and challe...</td>\n",
       "    </tr>\n",
       "    <tr>\n",
       "      <th>42</th>\n",
       "      <td>Starting From the Middle</td>\n",
       "      <td>By Lily Meyer</td>\n",
       "      <td>Adrian Matejka on his new book,Somebody Else S...</td>\n",
       "    </tr>\n",
       "    <tr>\n",
       "      <th>43</th>\n",
       "      <td>2023: Poetry's Year in Prose</td>\n",
       "      <td>By The Editors</td>\n",
       "      <td>A reading list of our 2023 features. How Rober...</td>\n",
       "    </tr>\n",
       "    <tr>\n",
       "      <th>44</th>\n",
       "      <td>Following the Impulse of the Brush</td>\n",
       "      <td>By Arthur Sze</td>\n",
       "      <td>A conversation with Kimiko Hahn, winner of the...</td>\n",
       "    </tr>\n",
       "    <tr>\n",
       "      <th>45</th>\n",
       "      <td>Harriet Monroe, Art Critic</td>\n",
       "      <td>By Mark Pohlad</td>\n",
       "      <td>Reading the visual in theChicago Daily Tribune...</td>\n",
       "    </tr>\n",
       "    <tr>\n",
       "      <th>46</th>\n",
       "      <td>2023: Poetry's Year in Prose</td>\n",
       "      <td>By The Editors</td>\n",
       "      <td>A reading list of our 2023 features. How Rober...</td>\n",
       "    </tr>\n",
       "  </tbody>\n",
       "</table>\n",
       "</div>"
      ],
      "text/plain": [
       "                                                Title  \\\n",
       "0                        2023: Poetry's Year in Prose   \n",
       "1                  Following the Impulse of the Brush   \n",
       "2                          Harriet Monroe, Art Critic   \n",
       "3                        2023: Poetry's Year in Prose   \n",
       "4                        2023: Poetry's Year in Prose   \n",
       "5                  Following the Impulse of the Brush   \n",
       "6                          Harriet Monroe, Art Critic   \n",
       "7                        2023: Poetry's Year in Prose   \n",
       "8                        2023: Poetry's Year in Prose   \n",
       "9                        2023: Poetry's Year in Prose   \n",
       "10                 Following the Impulse of the Brush   \n",
       "11                         Harriet Monroe, Art Critic   \n",
       "12                            Kimiko Hahn: Selections   \n",
       "13                                      Editor’s Note   \n",
       "14                  Margaret Walker’s “For My People”   \n",
       "15  Cracks in the Oracle Bone: Teaching Certain Co...   \n",
       "16                                        Kimiko Hahn   \n",
       "17                                        Kimiko Hahn   \n",
       "18                                               Ovid   \n",
       "19                                               Ovid   \n",
       "20                                     John Lee Clark   \n",
       "21                                     John Lee Clark   \n",
       "22                                     Will Alexander   \n",
       "23                                     Will Alexander   \n",
       "24                               Courtney Faye Taylor   \n",
       "25                               Courtney Faye Taylor   \n",
       "26                                       Ted Berrigan   \n",
       "27                                       Ted Berrigan   \n",
       "28                                         Rio Cortez   \n",
       "29                                         Rio Cortez   \n",
       "30                                     Adrian Matejka   \n",
       "31                                     Adrian Matejka   \n",
       "32                                      Micah Ballard   \n",
       "33                                      Micah Ballard   \n",
       "34                                     Patricia Smith   \n",
       "35                                     Patricia Smith   \n",
       "36                 Following the Impulse of the Brush   \n",
       "37                           Starting From the Middle   \n",
       "38                                 She Spares Nothing   \n",
       "39                                       Praise Songs   \n",
       "40                                    Beyond Language   \n",
       "41                                   Living Tradition   \n",
       "42                           Starting From the Middle   \n",
       "43                       2023: Poetry's Year in Prose   \n",
       "44                 Following the Impulse of the Brush   \n",
       "45                         Harriet Monroe, Art Critic   \n",
       "46                       2023: Poetry's Year in Prose   \n",
       "\n",
       "                                      Interviewer  \\\n",
       "0                                  By The Editors   \n",
       "1                                   By Arthur Sze   \n",
       "2                                  By Mark Pohlad   \n",
       "3                                  By The Editors   \n",
       "4                                  By The Editors   \n",
       "5                                   By Arthur Sze   \n",
       "6                                  By Mark Pohlad   \n",
       "7                                  By The Editors   \n",
       "8                                  By The Editors   \n",
       "9                                  By The Editors   \n",
       "10                                  By Arthur Sze   \n",
       "11                                 By Mark Pohlad   \n",
       "12                                  By Amy Wright   \n",
       "13                              By Adrian Matejka   \n",
       "14                                By CM Burroughs   \n",
       "15                          Interviewer Not Found   \n",
       "16                                   ByArthur Sze   \n",
       "17                                   ByArthur Sze   \n",
       "18                                   ByLily Meyer   \n",
       "19                                   ByLily Meyer   \n",
       "20                                  ByRachel Kolb   \n",
       "21                                  ByRachel Kolb   \n",
       "22                                   ByJenna Peng   \n",
       "23                                   ByJenna Peng   \n",
       "24                         ByAmaud Jamaul Johnson   \n",
       "25                         ByAmaud Jamaul Johnson   \n",
       "26                               ByGarrett Caples   \n",
       "27                               ByGarrett Caples   \n",
       "28                             ByJ. Howard Rosier   \n",
       "29                             ByJ. Howard Rosier   \n",
       "30                       ByRowan Ricardo Phillips   \n",
       "31                       ByRowan Ricardo Phillips   \n",
       "32                               ByKevin O'Rourke   \n",
       "33                               ByKevin O'Rourke   \n",
       "34                                  BySaeed Jones   \n",
       "35                                  BySaeed Jones   \n",
       "36                                  By Arthur Sze   \n",
       "37                                  By Lily Meyer   \n",
       "38                             By Kathleen Rooney   \n",
       "39  By Britteney Black Rose Kapri & José Olivarez   \n",
       "40                          By Layli Long Soldier   \n",
       "41                                 By Alex Dueben   \n",
       "42                                  By Lily Meyer   \n",
       "43                                 By The Editors   \n",
       "44                                  By Arthur Sze   \n",
       "45                                 By Mark Pohlad   \n",
       "46                                 By The Editors   \n",
       "\n",
       "                                              Content  \n",
       "0   A reading list of our 2023 features. How Rober...  \n",
       "1   A conversation with Kimiko Hahn, winner of the...  \n",
       "2   Reading the visual in theChicago Daily Tribune...  \n",
       "3   A reading list of our 2023 features. How Rober...  \n",
       "4   A reading list of our 2023 features. How Rober...  \n",
       "5   A conversation with Kimiko Hahn, winner of the...  \n",
       "6   Reading the visual in theChicago Daily Tribune...  \n",
       "7   A reading list of our 2023 features. How Rober...  \n",
       "8   A reading list of our 2023 features. How Rober...  \n",
       "9   A reading list of our 2023 features. How Rober...  \n",
       "10  A conversation with Kimiko Hahn, winner of the...  \n",
       "11  Reading the visual in theChicago Daily Tribune...  \n",
       "12  Poems by a poet-scientist Poems by an interdis...  \n",
       "13          An introduction to our June Jordan folio.  \n",
       "14  There is lightness within these downtrodden li...  \n",
       "15  I’m thrilled to be presenting a lecture honori...  \n",
       "16  Arthur Sze is a poet, a translator, and an edi...  \n",
       "17  Arthur Sze is a poet, a translator, and an edi...  \n",
       "18  Lily Meyer is a writer, translator, and critic...  \n",
       "19  Lily Meyer is a writer, translator, and critic...  \n",
       "20  Rachel Kolb is a Deaf writer, scholar, and adv...  \n",
       "21  Rachel Kolb is a Deaf writer, scholar, and adv...  \n",
       "22  Jenna Peng is a reader forPoetrymagazine, asso...  \n",
       "23  Jenna Peng is a reader forPoetrymagazine, asso...  \n",
       "24  Born and raised in Compton, California, poet A...  \n",
       "25  Born and raised in Compton, California, poet A...  \n",
       "26  Garrett Caples is the author ofLovers of Today...  \n",
       "27  Garrett Caples is the author ofLovers of Today...  \n",
       "28  J. Howard Rosier's work has appeared inTheNew ...  \n",
       "29  J. Howard Rosier's work has appeared inTheNew ...  \n",
       "30  Rowan Ricardo Phillips is the author of six bo...  \n",
       "31  Rowan Ricardo Phillips is the author of six bo...  \n",
       "32  Kevin O’Rourke lives in Philadelphia, where he...  \n",
       "33  Kevin O’Rourke lives in Philadelphia, where he...  \n",
       "34  Saeed Jones was born in Memphis and raised in ...  \n",
       "35  Saeed Jones was born in Memphis and raised in ...  \n",
       "36  A conversation with Kimiko Hahn, winner of the...  \n",
       "37  Adrian Matejka on his new book,Somebody Else S...  \n",
       "38  A new translation introduces English-language ...  \n",
       "39  Two Chicago poets talk about their debuts. Mar...  \n",
       "40  Joy Harjo on writing her life in poetry. Micha...  \n",
       "41  Clare Cavanagh talks about the joys and challe...  \n",
       "42  Adrian Matejka on his new book,Somebody Else S...  \n",
       "43  A reading list of our 2023 features. How Rober...  \n",
       "44  A conversation with Kimiko Hahn, winner of the...  \n",
       "45  Reading the visual in theChicago Daily Tribune...  \n",
       "46  A reading list of our 2023 features. How Rober...  "
      ]
     },
     "execution_count": 19,
     "metadata": {},
     "output_type": "execute_result"
    }
   ],
   "source": [
    "# Load the CSV file into a DataFrame\n",
    "df = pd.read_csv('corpus_data.csv')\n",
    "\n",
    "# Display the DataFrame\n",
    "df\n"
   ]
  },
  {
   "cell_type": "markdown",
   "metadata": {},
   "source": [
    "___"
   ]
  },
  {
   "cell_type": "markdown",
   "metadata": {},
   "source": [
    "## Dataset\n",
    "### *The Pudding*'s Film Dialogue Data"
   ]
  },
  {
   "cell_type": "markdown",
   "metadata": {},
   "source": [
    "The dataset that we're working with in this lesson is taken from Hannah Andersen and Matt Daniels's *Pudding* essay, [\"Film Dialogue from 2,000 screenplays, Broken Down by Gender and Age\"](https://pudding.cool/2017/03/film-dialogue/). The dataset provides information about 2,000 films from 1925 to 2015, including characters’ names, genders, ages, how many words each character spoke in each film, the release year of each film, and how much money the film grossed. They included character gender information because they wanted to contribute data to a broader conversation about how \"white men dominate movie roles.\""
   ]
  },
  {
   "cell_type": "markdown",
   "metadata": {},
   "source": [
    "___"
   ]
  },
  {
   "cell_type": "markdown",
   "metadata": {},
   "source": [
    "## Import Pandas"
   ]
  },
  {
   "cell_type": "markdown",
   "metadata": {},
   "source": [
    "To use the Pandas library, we first need to `import` it."
   ]
  },
  {
   "cell_type": "code",
   "execution_count": 10,
   "metadata": {},
   "outputs": [],
   "source": [
    "import pandas as pd"
   ]
  },
  {
   "cell_type": "markdown",
   "metadata": {},
   "source": [
    "## Change Display Settings"
   ]
  },
  {
   "cell_type": "markdown",
   "metadata": {},
   "source": [
    "By default, Pandas will display 60 rows and 20 columns. I often change [Pandas' default display settings](https://pandas.pydata.org/pandas-docs/stable/user_guide/options.html) to show more rows or columns."
   ]
  },
  {
   "cell_type": "code",
   "execution_count": 6,
   "metadata": {},
   "outputs": [],
   "source": [
    "pd.options.display.max_rows = 200"
   ]
  },
  {
   "cell_type": "markdown",
   "metadata": {},
   "source": [
    "## Get Data"
   ]
  },
  {
   "cell_type": "code",
   "execution_count": 9,
   "metadata": {},
   "outputs": [
    {
     "ename": "FileNotFoundError",
     "evalue": "[Errno 2] No such file or directory: '../Pudding-Film-Dialogue-Clean.csv'",
     "output_type": "error",
     "traceback": [
      "\u001b[0;31m---------------------------------------------------------------------------\u001b[0m",
      "\u001b[0;31mFileNotFoundError\u001b[0m                         Traceback (most recent call last)",
      "Cell \u001b[0;32mIn[9], line 1\u001b[0m\n\u001b[0;32m----> 1\u001b[0m film_df \u001b[38;5;241m=\u001b[39m pd\u001b[38;5;241m.\u001b[39mread_csv(\u001b[38;5;124m'\u001b[39m\u001b[38;5;124m../Pudding-Film-Dialogue-Clean.csv\u001b[39m\u001b[38;5;124m'\u001b[39m, delimiter\u001b[38;5;241m=\u001b[39m\u001b[38;5;124m\"\u001b[39m\u001b[38;5;124m,\u001b[39m\u001b[38;5;124m\"\u001b[39m, encoding\u001b[38;5;241m=\u001b[39m\u001b[38;5;124m'\u001b[39m\u001b[38;5;124mutf-8\u001b[39m\u001b[38;5;124m'\u001b[39m)\n",
      "File \u001b[0;32m~/anaconda3/lib/python3.11/site-packages/pandas/util/_decorators.py:211\u001b[0m, in \u001b[0;36mdeprecate_kwarg.<locals>._deprecate_kwarg.<locals>.wrapper\u001b[0;34m(*args, **kwargs)\u001b[0m\n\u001b[1;32m    209\u001b[0m     \u001b[38;5;28;01melse\u001b[39;00m:\n\u001b[1;32m    210\u001b[0m         kwargs[new_arg_name] \u001b[38;5;241m=\u001b[39m new_arg_value\n\u001b[0;32m--> 211\u001b[0m \u001b[38;5;28;01mreturn\u001b[39;00m func(\u001b[38;5;241m*\u001b[39margs, \u001b[38;5;241m*\u001b[39m\u001b[38;5;241m*\u001b[39mkwargs)\n",
      "File \u001b[0;32m~/anaconda3/lib/python3.11/site-packages/pandas/util/_decorators.py:331\u001b[0m, in \u001b[0;36mdeprecate_nonkeyword_arguments.<locals>.decorate.<locals>.wrapper\u001b[0;34m(*args, **kwargs)\u001b[0m\n\u001b[1;32m    325\u001b[0m \u001b[38;5;28;01mif\u001b[39;00m \u001b[38;5;28mlen\u001b[39m(args) \u001b[38;5;241m>\u001b[39m num_allow_args:\n\u001b[1;32m    326\u001b[0m     warnings\u001b[38;5;241m.\u001b[39mwarn(\n\u001b[1;32m    327\u001b[0m         msg\u001b[38;5;241m.\u001b[39mformat(arguments\u001b[38;5;241m=\u001b[39m_format_argument_list(allow_args)),\n\u001b[1;32m    328\u001b[0m         \u001b[38;5;167;01mFutureWarning\u001b[39;00m,\n\u001b[1;32m    329\u001b[0m         stacklevel\u001b[38;5;241m=\u001b[39mfind_stack_level(),\n\u001b[1;32m    330\u001b[0m     )\n\u001b[0;32m--> 331\u001b[0m \u001b[38;5;28;01mreturn\u001b[39;00m func(\u001b[38;5;241m*\u001b[39margs, \u001b[38;5;241m*\u001b[39m\u001b[38;5;241m*\u001b[39mkwargs)\n",
      "File \u001b[0;32m~/anaconda3/lib/python3.11/site-packages/pandas/io/parsers/readers.py:950\u001b[0m, in \u001b[0;36mread_csv\u001b[0;34m(filepath_or_buffer, sep, delimiter, header, names, index_col, usecols, squeeze, prefix, mangle_dupe_cols, dtype, engine, converters, true_values, false_values, skipinitialspace, skiprows, skipfooter, nrows, na_values, keep_default_na, na_filter, verbose, skip_blank_lines, parse_dates, infer_datetime_format, keep_date_col, date_parser, dayfirst, cache_dates, iterator, chunksize, compression, thousands, decimal, lineterminator, quotechar, quoting, doublequote, escapechar, comment, encoding, encoding_errors, dialect, error_bad_lines, warn_bad_lines, on_bad_lines, delim_whitespace, low_memory, memory_map, float_precision, storage_options)\u001b[0m\n\u001b[1;32m    935\u001b[0m kwds_defaults \u001b[38;5;241m=\u001b[39m _refine_defaults_read(\n\u001b[1;32m    936\u001b[0m     dialect,\n\u001b[1;32m    937\u001b[0m     delimiter,\n\u001b[0;32m   (...)\u001b[0m\n\u001b[1;32m    946\u001b[0m     defaults\u001b[38;5;241m=\u001b[39m{\u001b[38;5;124m\"\u001b[39m\u001b[38;5;124mdelimiter\u001b[39m\u001b[38;5;124m\"\u001b[39m: \u001b[38;5;124m\"\u001b[39m\u001b[38;5;124m,\u001b[39m\u001b[38;5;124m\"\u001b[39m},\n\u001b[1;32m    947\u001b[0m )\n\u001b[1;32m    948\u001b[0m kwds\u001b[38;5;241m.\u001b[39mupdate(kwds_defaults)\n\u001b[0;32m--> 950\u001b[0m \u001b[38;5;28;01mreturn\u001b[39;00m _read(filepath_or_buffer, kwds)\n",
      "File \u001b[0;32m~/anaconda3/lib/python3.11/site-packages/pandas/io/parsers/readers.py:605\u001b[0m, in \u001b[0;36m_read\u001b[0;34m(filepath_or_buffer, kwds)\u001b[0m\n\u001b[1;32m    602\u001b[0m _validate_names(kwds\u001b[38;5;241m.\u001b[39mget(\u001b[38;5;124m\"\u001b[39m\u001b[38;5;124mnames\u001b[39m\u001b[38;5;124m\"\u001b[39m, \u001b[38;5;28;01mNone\u001b[39;00m))\n\u001b[1;32m    604\u001b[0m \u001b[38;5;66;03m# Create the parser.\u001b[39;00m\n\u001b[0;32m--> 605\u001b[0m parser \u001b[38;5;241m=\u001b[39m TextFileReader(filepath_or_buffer, \u001b[38;5;241m*\u001b[39m\u001b[38;5;241m*\u001b[39mkwds)\n\u001b[1;32m    607\u001b[0m \u001b[38;5;28;01mif\u001b[39;00m chunksize \u001b[38;5;129;01mor\u001b[39;00m iterator:\n\u001b[1;32m    608\u001b[0m     \u001b[38;5;28;01mreturn\u001b[39;00m parser\n",
      "File \u001b[0;32m~/anaconda3/lib/python3.11/site-packages/pandas/io/parsers/readers.py:1442\u001b[0m, in \u001b[0;36mTextFileReader.__init__\u001b[0;34m(self, f, engine, **kwds)\u001b[0m\n\u001b[1;32m   1439\u001b[0m     \u001b[38;5;28mself\u001b[39m\u001b[38;5;241m.\u001b[39moptions[\u001b[38;5;124m\"\u001b[39m\u001b[38;5;124mhas_index_names\u001b[39m\u001b[38;5;124m\"\u001b[39m] \u001b[38;5;241m=\u001b[39m kwds[\u001b[38;5;124m\"\u001b[39m\u001b[38;5;124mhas_index_names\u001b[39m\u001b[38;5;124m\"\u001b[39m]\n\u001b[1;32m   1441\u001b[0m \u001b[38;5;28mself\u001b[39m\u001b[38;5;241m.\u001b[39mhandles: IOHandles \u001b[38;5;241m|\u001b[39m \u001b[38;5;28;01mNone\u001b[39;00m \u001b[38;5;241m=\u001b[39m \u001b[38;5;28;01mNone\u001b[39;00m\n\u001b[0;32m-> 1442\u001b[0m \u001b[38;5;28mself\u001b[39m\u001b[38;5;241m.\u001b[39m_engine \u001b[38;5;241m=\u001b[39m \u001b[38;5;28mself\u001b[39m\u001b[38;5;241m.\u001b[39m_make_engine(f, \u001b[38;5;28mself\u001b[39m\u001b[38;5;241m.\u001b[39mengine)\n",
      "File \u001b[0;32m~/anaconda3/lib/python3.11/site-packages/pandas/io/parsers/readers.py:1735\u001b[0m, in \u001b[0;36mTextFileReader._make_engine\u001b[0;34m(self, f, engine)\u001b[0m\n\u001b[1;32m   1733\u001b[0m     \u001b[38;5;28;01mif\u001b[39;00m \u001b[38;5;124m\"\u001b[39m\u001b[38;5;124mb\u001b[39m\u001b[38;5;124m\"\u001b[39m \u001b[38;5;129;01mnot\u001b[39;00m \u001b[38;5;129;01min\u001b[39;00m mode:\n\u001b[1;32m   1734\u001b[0m         mode \u001b[38;5;241m+\u001b[39m\u001b[38;5;241m=\u001b[39m \u001b[38;5;124m\"\u001b[39m\u001b[38;5;124mb\u001b[39m\u001b[38;5;124m\"\u001b[39m\n\u001b[0;32m-> 1735\u001b[0m \u001b[38;5;28mself\u001b[39m\u001b[38;5;241m.\u001b[39mhandles \u001b[38;5;241m=\u001b[39m get_handle(\n\u001b[1;32m   1736\u001b[0m     f,\n\u001b[1;32m   1737\u001b[0m     mode,\n\u001b[1;32m   1738\u001b[0m     encoding\u001b[38;5;241m=\u001b[39m\u001b[38;5;28mself\u001b[39m\u001b[38;5;241m.\u001b[39moptions\u001b[38;5;241m.\u001b[39mget(\u001b[38;5;124m\"\u001b[39m\u001b[38;5;124mencoding\u001b[39m\u001b[38;5;124m\"\u001b[39m, \u001b[38;5;28;01mNone\u001b[39;00m),\n\u001b[1;32m   1739\u001b[0m     compression\u001b[38;5;241m=\u001b[39m\u001b[38;5;28mself\u001b[39m\u001b[38;5;241m.\u001b[39moptions\u001b[38;5;241m.\u001b[39mget(\u001b[38;5;124m\"\u001b[39m\u001b[38;5;124mcompression\u001b[39m\u001b[38;5;124m\"\u001b[39m, \u001b[38;5;28;01mNone\u001b[39;00m),\n\u001b[1;32m   1740\u001b[0m     memory_map\u001b[38;5;241m=\u001b[39m\u001b[38;5;28mself\u001b[39m\u001b[38;5;241m.\u001b[39moptions\u001b[38;5;241m.\u001b[39mget(\u001b[38;5;124m\"\u001b[39m\u001b[38;5;124mmemory_map\u001b[39m\u001b[38;5;124m\"\u001b[39m, \u001b[38;5;28;01mFalse\u001b[39;00m),\n\u001b[1;32m   1741\u001b[0m     is_text\u001b[38;5;241m=\u001b[39mis_text,\n\u001b[1;32m   1742\u001b[0m     errors\u001b[38;5;241m=\u001b[39m\u001b[38;5;28mself\u001b[39m\u001b[38;5;241m.\u001b[39moptions\u001b[38;5;241m.\u001b[39mget(\u001b[38;5;124m\"\u001b[39m\u001b[38;5;124mencoding_errors\u001b[39m\u001b[38;5;124m\"\u001b[39m, \u001b[38;5;124m\"\u001b[39m\u001b[38;5;124mstrict\u001b[39m\u001b[38;5;124m\"\u001b[39m),\n\u001b[1;32m   1743\u001b[0m     storage_options\u001b[38;5;241m=\u001b[39m\u001b[38;5;28mself\u001b[39m\u001b[38;5;241m.\u001b[39moptions\u001b[38;5;241m.\u001b[39mget(\u001b[38;5;124m\"\u001b[39m\u001b[38;5;124mstorage_options\u001b[39m\u001b[38;5;124m\"\u001b[39m, \u001b[38;5;28;01mNone\u001b[39;00m),\n\u001b[1;32m   1744\u001b[0m )\n\u001b[1;32m   1745\u001b[0m \u001b[38;5;28;01massert\u001b[39;00m \u001b[38;5;28mself\u001b[39m\u001b[38;5;241m.\u001b[39mhandles \u001b[38;5;129;01mis\u001b[39;00m \u001b[38;5;129;01mnot\u001b[39;00m \u001b[38;5;28;01mNone\u001b[39;00m\n\u001b[1;32m   1746\u001b[0m f \u001b[38;5;241m=\u001b[39m \u001b[38;5;28mself\u001b[39m\u001b[38;5;241m.\u001b[39mhandles\u001b[38;5;241m.\u001b[39mhandle\n",
      "File \u001b[0;32m~/anaconda3/lib/python3.11/site-packages/pandas/io/common.py:865\u001b[0m, in \u001b[0;36mget_handle\u001b[0;34m(path_or_buf, mode, encoding, compression, memory_map, is_text, errors, storage_options)\u001b[0m\n\u001b[1;32m    856\u001b[0m         handle \u001b[38;5;241m=\u001b[39m \u001b[38;5;28mopen\u001b[39m(\n\u001b[1;32m    857\u001b[0m             handle,\n\u001b[1;32m    858\u001b[0m             ioargs\u001b[38;5;241m.\u001b[39mmode,\n\u001b[0;32m   (...)\u001b[0m\n\u001b[1;32m    861\u001b[0m             newline\u001b[38;5;241m=\u001b[39m\u001b[38;5;124m\"\u001b[39m\u001b[38;5;124m\"\u001b[39m,\n\u001b[1;32m    862\u001b[0m         )\n\u001b[1;32m    863\u001b[0m     \u001b[38;5;28;01melse\u001b[39;00m:\n\u001b[1;32m    864\u001b[0m         \u001b[38;5;66;03m# Binary mode\u001b[39;00m\n\u001b[0;32m--> 865\u001b[0m         handle \u001b[38;5;241m=\u001b[39m \u001b[38;5;28mopen\u001b[39m(handle, ioargs\u001b[38;5;241m.\u001b[39mmode)\n\u001b[1;32m    866\u001b[0m     handles\u001b[38;5;241m.\u001b[39mappend(handle)\n\u001b[1;32m    868\u001b[0m \u001b[38;5;66;03m# Convert BytesIO or file objects passed with an encoding\u001b[39;00m\n",
      "\u001b[0;31mFileNotFoundError\u001b[0m: [Errno 2] No such file or directory: '../Pudding-Film-Dialogue-Clean.csv'"
     ]
    }
   ],
   "source": [
    "film_df = pd.read_csv('../Pudding-Film-Dialogue-Clean.csv', delimiter=\",\", encoding='utf-8')"
   ]
  },
  {
   "cell_type": "markdown",
   "metadata": {},
   "source": [
    "This creates a Pandas [DataFrame object](https://pandas.pydata.org/pandas-docs/stable/user_guide/dsintro.html#DataFrame) — often abbreviated as *df*, e.g., *slave_voyages_df*. A DataFrame looks and acts a lot like a spreadsheet. But it has special powers and functions that we will discuss in the next few lessons."
   ]
  },
  {
   "cell_type": "markdown",
   "metadata": {},
   "source": [
    "## Overview\n",
    "\n",
    "To look at a random *n* number of rows in a DataFrame, we can use a method called `.sample()`."
   ]
  },
  {
   "cell_type": "code",
   "execution_count": null,
   "metadata": {},
   "outputs": [],
   "source": [
    "film_df.sample(10)"
   ]
  },
  {
   "cell_type": "markdown",
   "metadata": {},
   "source": [
    "Generate information about all the columns in the data "
   ]
  },
  {
   "cell_type": "code",
   "execution_count": null,
   "metadata": {},
   "outputs": [],
   "source": [
    "film_df.info()"
   ]
  },
  {
   "cell_type": "markdown",
   "metadata": {},
   "source": [
    "Just like Python has different data types, Pandas has different data types, too. These data types are automatically assigned to columns when we read in a CSV file. We can check these Pandas data types with the [`.dtypes` method](https://pandas.pydata.org/pandas-docs/stable/reference/api/pandas.DataFrame.dtypes.html)."
   ]
  },
  {
   "cell_type": "markdown",
   "metadata": {},
   "source": [
    "\n",
    "\n",
    "| **Pandas Data Type** |  **Explanation**                                                                                   |\n",
    "|:-------------:|:---------------------------------------------------------------------------------------------------:|\n",
    "| `object`         | string                                                                               |\n",
    "| `float64`         | float                                               |\n",
    "| `int64`       | integer                                                        |\n",
    "| `datetime64`       |  date time              "
   ]
  },
  {
   "cell_type": "markdown",
   "metadata": {},
   "source": [
    "Make a histogram of the DataFrame"
   ]
  },
  {
   "cell_type": "code",
   "execution_count": null,
   "metadata": {},
   "outputs": [],
   "source": [
    "film_df.hist(figsize=(10,10))"
   ]
  },
  {
   "cell_type": "markdown",
   "metadata": {},
   "source": [
    "Generate descriptive statistics for all the columns in the data "
   ]
  },
  {
   "cell_type": "code",
   "execution_count": null,
   "metadata": {},
   "outputs": [],
   "source": [
    "film_df.describe(include='all')"
   ]
  },
  {
   "cell_type": "markdown",
   "metadata": {},
   "source": [
    "### ❓ What patterns or outliers do you notice?"
   ]
  },
  {
   "cell_type": "markdown",
   "metadata": {},
   "source": [
    "## Drop Rows"
   ]
  },
  {
   "cell_type": "code",
   "execution_count": null,
   "metadata": {},
   "outputs": [],
   "source": [
    "film_df[film_df['age'] > 100]"
   ]
  },
  {
   "cell_type": "markdown",
   "metadata": {},
   "source": [
    "If you want to double check, you can examine the [data that the Pudding shared here](https://github.com/matthewfdaniels/scripts/blob/graphs/character_list5.csv) (you can control + F to search for specific characters)."
   ]
  },
  {
   "cell_type": "code",
   "execution_count": 602,
   "metadata": {},
   "outputs": [],
   "source": [
    "film_df = film_df.drop(film_df[film_df['age'] > 100].index) "
   ]
  },
  {
   "cell_type": "code",
   "execution_count": null,
   "metadata": {},
   "outputs": [],
   "source": [
    "film_df"
   ]
  },
  {
   "cell_type": "code",
   "execution_count": 605,
   "metadata": {},
   "outputs": [
    {
     "data": {
      "text/html": [
       "<div>\n",
       "<style scoped>\n",
       "    .dataframe tbody tr th:only-of-type {\n",
       "        vertical-align: middle;\n",
       "    }\n",
       "\n",
       "    .dataframe tbody tr th {\n",
       "        vertical-align: top;\n",
       "    }\n",
       "\n",
       "    .dataframe thead th {\n",
       "        text-align: right;\n",
       "    }\n",
       "</style>\n",
       "<table border=\"1\" class=\"dataframe\">\n",
       "  <thead>\n",
       "    <tr style=\"text-align: right;\">\n",
       "      <th></th>\n",
       "      <th>title</th>\n",
       "      <th>release_year</th>\n",
       "      <th>character</th>\n",
       "      <th>gender</th>\n",
       "      <th>words</th>\n",
       "      <th>proportion_of_dialogue</th>\n",
       "      <th>age</th>\n",
       "      <th>gross</th>\n",
       "      <th>script_id</th>\n",
       "    </tr>\n",
       "  </thead>\n",
       "  <tbody>\n",
       "  </tbody>\n",
       "</table>\n",
       "</div>"
      ],
      "text/plain": [
       "Empty DataFrame\n",
       "Columns: [title, release_year, character, gender, words, proportion_of_dialogue, age, gross, script_id]\n",
       "Index: []"
      ]
     },
     "execution_count": 605,
     "metadata": {},
     "output_type": "execute_result"
    }
   ],
   "source": [
    "film_df[film_df['age'] > 100]"
   ]
  },
  {
   "cell_type": "markdown",
   "metadata": {},
   "source": [
    "## Rename Columns"
   ]
  },
  {
   "cell_type": "code",
   "execution_count": 67,
   "metadata": {},
   "outputs": [],
   "source": [
    "film_df = film_df.rename(columns={'imdb_character_name': 'character', 'year': 'release_year'})"
   ]
  },
  {
   "cell_type": "code",
   "execution_count": null,
   "metadata": {
    "tags": [
     "full-width"
    ]
   },
   "outputs": [],
   "source": [
    "film_df.head()"
   ]
  },
  {
   "cell_type": "markdown",
   "metadata": {},
   "source": [
    "## Filter"
   ]
  },
  {
   "cell_type": "markdown",
   "metadata": {},
   "source": [
    "<div class=\"admonition note\" name=\"html-admonition\" style=\"background: lightblue; padding: 10px\">\n",
    "Group work!\n",
    "</div>"
   ]
  },
  {
   "cell_type": "markdown",
   "metadata": {},
   "source": [
    "Find a specific film that you're intersted and then filter the DataFrame for only rows relevant to that film. \n",
    "\n",
    "If you want to search for films by decade and genre, you can [search the with the Pudding's handy data viz here](https://pudding.cool/2017/03/film-dialogue/embed.html)."
   ]
  },
  {
   "cell_type": "code",
   "execution_count": 179,
   "metadata": {},
   "outputs": [],
   "source": [
    "film_filter = ..."
   ]
  },
  {
   "cell_type": "markdown",
   "metadata": {},
   "source": [
    "If you want to sort by characters who speak the most, feel free to add `.sort_values(by='words', ascending=False)`"
   ]
  },
  {
   "cell_type": "code",
   "execution_count": null,
   "metadata": {},
   "outputs": [],
   "source": [
    "film_df[film_filter]"
   ]
  },
  {
   "cell_type": "markdown",
   "metadata": {},
   "source": [
    "Now pick a character from this film (or another character) and filter the DataFrame by character."
   ]
  },
  {
   "cell_type": "code",
   "execution_count": 179,
   "metadata": {},
   "outputs": [],
   "source": [
    "character_filter = ..."
   ]
  },
  {
   "cell_type": "code",
   "execution_count": null,
   "metadata": {},
   "outputs": [],
   "source": [
    "film_df[character_filter]"
   ]
  },
  {
   "cell_type": "markdown",
   "metadata": {},
   "source": [
    "### ❓ How does this data align with your experience/knowledge of the film?\n",
    "### ❓ How do these specific examples influence your thoughts about the data collection and categorization process? What would you have done differently (if anything)?"
   ]
  },
  {
   "cell_type": "markdown",
   "metadata": {},
   "source": [
    "## Sort Values"
   ]
  },
  {
   "cell_type": "markdown",
   "metadata": {},
   "source": [
    "<div class=\"admonition note\" name=\"html-admonition\" style=\"background: lightblue; padding: 10px\">\n",
    "Group work!\n",
    "</div>"
   ]
  },
  {
   "cell_type": "markdown",
   "metadata": {},
   "source": [
    "Sort the DataFrame from the character who has the highest `proportion_of_dialogue` to the lowest.  Then examine the first 20 rows with `.head(20)` or `[:20]`."
   ]
  },
  {
   "cell_type": "code",
   "execution_count": null,
   "metadata": {},
   "outputs": [],
   "source": [
    "film_df..."
   ]
  },
  {
   "cell_type": "markdown",
   "metadata": {},
   "source": [
    "Sort the DataFrame from the character who has the lowest `proportion_of_dialogue` to the highest. Then examine the first 20 rows with `.head(20)` or `[:20]`."
   ]
  },
  {
   "cell_type": "code",
   "execution_count": null,
   "metadata": {},
   "outputs": [],
   "source": [
    "film_df..."
   ]
  },
  {
   "cell_type": "markdown",
   "metadata": {},
   "source": [
    "Sort the DataFrame from the character who speaks the least number of `words` to the character who speaks the most number of words. Then examine the first 20 rows with `.head(20)` or `[:20]`."
   ]
  },
  {
   "cell_type": "code",
   "execution_count": null,
   "metadata": {},
   "outputs": [],
   "source": [
    "film_df..."
   ]
  },
  {
   "cell_type": "markdown",
   "metadata": {},
   "source": [
    "### ❓ What patterns do you notice here? What surprises you or doesn't surprise you?"
   ]
  },
  {
   "cell_type": "markdown",
   "metadata": {},
   "source": [
    "## Groupby"
   ]
  },
  {
   "cell_type": "markdown",
   "metadata": {},
   "source": [
    "Group by film and then calculate the sum total for every column."
   ]
  },
  {
   "cell_type": "code",
   "execution_count": null,
   "metadata": {},
   "outputs": [],
   "source": [
    "film_df.groupby..."
   ]
  },
  {
   "cell_type": "markdown",
   "metadata": {},
   "source": [
    "Group by film, isolate the `words` column, and then calculate the sum total for every column."
   ]
  },
  {
   "cell_type": "code",
   "execution_count": null,
   "metadata": {},
   "outputs": [],
   "source": [
    "film_df.groupby..."
   ]
  },
  {
   "cell_type": "markdown",
   "metadata": {},
   "source": [
    "Group by film AND gender, isolate the column `words`, and then calculate the sum total for every column.\n",
    "\n",
    "*Note: Remember that to group by multiple columns, you need to put the column names in square brackets `[]`.*"
   ]
  },
  {
   "cell_type": "code",
   "execution_count": null,
   "metadata": {},
   "outputs": [],
   "source": [
    "film_df.groupby..."
   ]
  },
  {
   "cell_type": "markdown",
   "metadata": {},
   "source": [
    "## Filter, Then Groupby"
   ]
  },
  {
   "cell_type": "markdown",
   "metadata": {},
   "source": [
    "<div class=\"admonition note\" name=\"html-admonition\" style=\"background: lightblue; padding: 10px\">\n",
    "Group work!\n",
    "</div>"
   ]
  },
  {
   "cell_type": "markdown",
   "metadata": {},
   "source": [
    "Filter the DataFrame for only characters labeled as `woman`"
   ]
  },
  {
   "cell_type": "code",
   "execution_count": 6,
   "metadata": {},
   "outputs": [],
   "source": [
    "women_filter = film_df['gender'] == 'woman'"
   ]
  },
  {
   "cell_type": "code",
   "execution_count": 7,
   "metadata": {},
   "outputs": [],
   "source": [
    "women_film_df = film_df[women_filter]"
   ]
  },
  {
   "cell_type": "markdown",
   "metadata": {},
   "source": [
    "Filter the DataFrame for only characters labeled as `man`"
   ]
  },
  {
   "cell_type": "code",
   "execution_count": 8,
   "metadata": {},
   "outputs": [],
   "source": [
    "men_filter = film_df['gender'] == 'man'"
   ]
  },
  {
   "cell_type": "code",
   "execution_count": 9,
   "metadata": {},
   "outputs": [],
   "source": [
    "men_film_df = film_df[men_filter]"
   ]
  },
  {
   "cell_type": "markdown",
   "metadata": {},
   "source": [
    "Now group `women_film_df` by film, isolate the `words` column, and sum the `words` spoken by women."
   ]
  },
  {
   "cell_type": "code",
   "execution_count": 10,
   "metadata": {},
   "outputs": [
    {
     "data": {
      "text/plain": [
       "title\n",
       "(500) Days of Summer          5738\n",
       "10 Things I Hate About You    8992\n",
       "12 Years a Slave              3452\n",
       "12 and Holding                5324\n",
       "127 Hours                      809\n",
       "                              ... \n",
       "Zero Effect                   2216\n",
       "Zerophilia                    4612\n",
       "Zodiac                        1421\n",
       "eXistenZ                      3752\n",
       "xXx                            998\n",
       "Name: words, Length: 1940, dtype: int64"
      ]
     },
     "execution_count": 10,
     "metadata": {},
     "output_type": "execute_result"
    }
   ],
   "source": [
    "women_film_df.groupby('title')['words'].sum()"
   ]
  },
  {
   "cell_type": "markdown",
   "metadata": {},
   "source": [
    "Assign this Series to a new variable `women_by_film`"
   ]
  },
  {
   "cell_type": "code",
   "execution_count": 11,
   "metadata": {},
   "outputs": [],
   "source": [
    "women_by_film = women_film_df.groupby('title')['words'].sum()"
   ]
  },
  {
   "cell_type": "markdown",
   "metadata": {},
   "source": [
    "Using the same construction, make a new another new variable `men_by_film`"
   ]
  },
  {
   "cell_type": "code",
   "execution_count": 12,
   "metadata": {},
   "outputs": [],
   "source": [
    "men_by_film = men_film_df.groupby('title')['words'].sum()"
   ]
  },
  {
   "cell_type": "markdown",
   "metadata": {},
   "source": [
    "Sort `women_by_film` from the film with the most words to the film with the least words. Then examine the top 20 values."
   ]
  },
  {
   "cell_type": "code",
   "execution_count": null,
   "metadata": {},
   "outputs": [],
   "source": [
    "women_by_film.sort_values(ascending=False)[:20]"
   ]
  },
  {
   "cell_type": "markdown",
   "metadata": {},
   "source": [
    "Assign this sorted list of movies to the variable `top20_women`"
   ]
  },
  {
   "cell_type": "code",
   "execution_count": 435,
   "metadata": {},
   "outputs": [],
   "source": [
    "top20_women = women_by_film.sort_values(ascending=False)[:20]"
   ]
  },
  {
   "cell_type": "markdown",
   "metadata": {},
   "source": [
    "Using the same construction, make a new variable `top20_men`"
   ]
  },
  {
   "cell_type": "code",
   "execution_count": 436,
   "metadata": {},
   "outputs": [],
   "source": [
    "top20_men = men_by_film.sort_values(ascending=False)[:20]"
   ]
  },
  {
   "cell_type": "markdown",
   "metadata": {},
   "source": [
    "### ❓ What patterns do you notice here? What surprises you or doesn't surprise you?"
   ]
  },
  {
   "cell_type": "markdown",
   "metadata": {},
   "source": [
    "## Saving Plots"
   ]
  },
  {
   "cell_type": "markdown",
   "metadata": {},
   "source": [
    "<div class=\"admonition note\" name=\"html-admonition\" style=\"background: lightblue; padding: 10px\">\n",
    "Group work!\n",
    "</div>"
   ]
  },
  {
   "cell_type": "markdown",
   "metadata": {},
   "source": [
    "Make a bar chart of `top20_women`. Give the chart a title, and specify a color."
   ]
  },
  {
   "cell_type": "code",
   "execution_count": null,
   "metadata": {},
   "outputs": [],
   "source": [
    "top20_women.plot(kind='bar')"
   ]
  },
  {
   "cell_type": "markdown",
   "metadata": {},
   "source": [
    "To save the plot, you can use `ax.figure.savefig()` and the name of the file in quotation marks."
   ]
  },
  {
   "cell_type": "code",
   "execution_count": null,
   "metadata": {},
   "outputs": [],
   "source": [
    "ax = top20_women.plot(kind='bar')\n",
    "ax.figure.savefig('top20_women.png')"
   ]
  },
  {
   "cell_type": "markdown",
   "metadata": {},
   "source": [
    "Look in the file browser on the left and double click the PNG file. How does it look? Uh oh!\n",
    "\n",
    "Sometimes parts of a plot will get cut off when you save it. To fix this issue, you can use a function from the Matplotlib library called `plt.tight_layout()`, which will adjust the plot before you save it.\n",
    "\n",
    "To use this function, you need to `import matplotlib.pyplot as plt`."
   ]
  },
  {
   "cell_type": "code",
   "execution_count": null,
   "metadata": {},
   "outputs": [],
   "source": [
    "import matplotlib.pyplot as plt\n",
    "\n",
    "ax = top20_women.plot(kind='bar')\n",
    "plt.tight_layout()\n",
    "ax.figure.savefig('top20_women.png')"
   ]
  },
  {
   "cell_type": "markdown",
   "metadata": {},
   "source": [
    "## Scatter Plots and Line Plots"
   ]
  },
  {
   "cell_type": "markdown",
   "metadata": {},
   "source": [
    "Let's make a scatter plot that shows how many words women and men speak based on their age."
   ]
  },
  {
   "cell_type": "code",
   "execution_count": null,
   "metadata": {
    "scrolled": true
   },
   "outputs": [],
   "source": [
    "women_film_df.groupby('age')['words'].sum().reset_index()"
   ]
  },
  {
   "cell_type": "code",
   "execution_count": 14,
   "metadata": {
    "scrolled": true
   },
   "outputs": [],
   "source": [
    "women_age_words = women_film_df.groupby('age')['words'].sum().reset_index()"
   ]
  },
  {
   "cell_type": "code",
   "execution_count": 15,
   "metadata": {},
   "outputs": [],
   "source": [
    "men_age_words = men_film_df.groupby('age')['words'].sum().reset_index()"
   ]
  },
  {
   "cell_type": "code",
   "execution_count": 16,
   "metadata": {},
   "outputs": [
    {
     "data": {
      "text/plain": [
       "<matplotlib.axes._subplots.AxesSubplot at 0x7fe2bc8383d0>"
      ]
     },
     "execution_count": 16,
     "metadata": {},
     "output_type": "execute_result"
    },
    {
     "data": {
      "image/png": "[encoded data removed]",
      "text/plain": [
       "<Figure size 432x288 with 1 Axes>"
      ]
     },
     "metadata": {
      "needs_background": "light"
     },
     "output_type": "display_data"
    }
   ],
   "source": [
    "ax = women_age_words.plot(kind='scatter', x='age', y='words', color='red')\n",
    "men_age_words.plot(ax=ax, kind='scatter', x='age', y='words', color='blue')"
   ]
  },
  {
   "cell_type": "markdown",
   "metadata": {},
   "source": [
    "Now let's make a line plot of the exact same data. Copy and paste the code in the cell above and change it to produce a line plot instead of a scatter plot."
   ]
  },
  {
   "cell_type": "markdown",
   "metadata": {},
   "source": [
    "<div class=\"admonition note\" name=\"html-admonition\" style=\"background: lightblue; padding: 10px\">\n",
    "Group work!\n",
    "</div>"
   ]
  },
  {
   "cell_type": "code",
   "execution_count": 645,
   "metadata": {},
   "outputs": [],
   "source": [
    "# Your code here\n",
    "# Your code here"
   ]
  },
  {
   "cell_type": "markdown",
   "metadata": {},
   "source": [
    "If there is anything wrong, please open [an issue on GitHub](https://github.com/GroningenDH/Cultural-Analytics-Open-Science-Guide/issues) or email f.pianzola@rug.nl"
   ]
  }
 ],
 "metadata": {
  "kernelspec": {
   "display_name": "Python 3 (ipykernel)",
   "language": "python",
   "name": "python3"
  },
  "language_info": {
   "codemirror_mode": {
    "name": "ipython",
    "version": 3
   },
   "file_extension": ".py",
   "mimetype": "text/x-python",
   "name": "python",
   "nbconvert_exporter": "python",
   "pygments_lexer": "ipython3",
   "version": "3.11.4"
  },
  "toc": {
   "base_numbering": 1,
   "nav_menu": {},
   "number_sections": true,
   "sideBar": true,
   "skip_h1_title": false,
   "title_cell": "Table of Contents",
   "title_sidebar": "Contents",
   "toc_cell": false,
   "toc_position": {},
   "toc_section_display": true,
   "toc_window_display": false
  },
  "varInspector": {
   "cols": {
    "lenName": 16,
    "lenType": 16,
    "lenVar": 40
   },
   "kernels_config": {
    "python": {
     "delete_cmd_postfix": "",
     "delete_cmd_prefix": "del ",
     "library": "var_list.py",
     "varRefreshCmd": "print(var_dic_list())"
    },
    "r": {
     "delete_cmd_postfix": ") ",
     "delete_cmd_prefix": "rm(",
     "library": "var_list.r",
     "varRefreshCmd": "cat(var_dic_list()) "
    }
   },
   "types_to_exclude": [
    "module",
    "function",
    "builtin_function_or_method",
    "instance",
    "_Feature"
   ],
   "window_display": false
  }
 },
 "nbformat": 4,
 "nbformat_minor": 4
}
